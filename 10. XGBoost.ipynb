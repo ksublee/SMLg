{
 "cells": [
  {
   "cell_type": "markdown",
   "id": "e2baf930",
   "metadata": {},
   "source": [
    "# XGBoost\n",
    "\n",
    "최적화된 그레디언트 부스팅 구현으로 XGBoost라는 것이 유명하다.\n",
    "\n",
    "XGBoost는 eXtreme Gradient Boosting의 약자로서, 확장성 때문에 구조화된 데이터에 대한 응용 머신 러닝에서 많이 활용된다.\n",
    "\n",
    "XGBoost는 gradient boost를 개선한 방법이라고 볼 수 있으며, 속도와 성능을 향상시키도록 특별히 설계되었다.\n",
    "\n",
    "XGBoost에서 최적화를 위한 목적 함수의 두드러진 특징은 훈련 손실과 규제항의 두 부분으로 구성된다는 것이다.\n",
    "\n",
    "Regularized learning을 통해 과적합을 피하고, 단순하고 예측가능한 모형을 선택할 수 있게 한다. \n",
    "\n",
    "$$ \\text{obj}(\\theta) = L(\\theta) + \\Omega(\\theta) $$\n",
    "\n",
    "Tree 방법에서 정규화항은 일종의 모델 복잡도 (complexity of the tree)로 정의된다.\n",
    "\n",
    "그 외에 병렬화와 시스템 최적화로 기존의 gradient boosting에 비해 성능이 높다고 알려져 있다.\n",
    "\n",
    "아래는 [XGBoost](https://xgboost.readthedocs.io/en/stable/tutorials/model.html) 패키지의 메뉴얼의 내용을 요약한 것이다.\n",
    "\n",
    "XGBoost에서 훈련의 핵심은 매 부스팅 스텝마다 tree structure score라는 값을 최소화하는 트리를 찾는 것이다."
   ]
  },
  {
   "cell_type": "markdown",
   "id": "e603138c",
   "metadata": {},
   "source": [
    "### Tree\n",
    "\n",
    "XGBoost는 CART(Classification And Regression Tree)들이 모인 일종의 앙상블 모형이다.\n",
    "\n",
    "일반적인 gradient boosting과 동일한 방법으로부터 출발한다.\n",
    "\n",
    "즉, boosting의 각 step에서 작은 트리 (weak learner)들을 적합한다.\n",
    "\n",
    "학습된 트리는 이전 단계까지 학습된 모형에 합하는 additive 방식을 취한다.\n",
    "\n",
    "XGBoost에서는 CART를 형성할 때 마지막 leaf 노드에서 일종의 숫자로 이루어진 score를 배정한다. \n",
    "\n",
    "* 나중에 설명하는 tree structure score와는 다른 것.\n",
    "\n",
    "예를 들어 A와 B 클래스가 있을 때, score는 높을수록 A 클래스에 속할 확률이 높고, score가 낮을수록 B 클래스에 속할 확률이 높아질 수 있도록 설계할 수 있을 것이다.\n",
    "\n",
    "이 score는 일종의 모형 모수로서, 최적화의 대상이다."
   ]
  },
  {
   "cell_type": "markdown",
   "id": "95c15e64",
   "metadata": {},
   "source": [
    "### 규제항\n",
    "\n",
    "XGBoost는 모델 복잡도를 낮추기 위해 규제항을 사용한다. \n",
    "\n",
    "어떤 트리 (weak learner) $f$에 대한 규제항은 다음과 같이 정의된다.\n",
    "\n",
    "$$ \\Omega(f) = \\gamma T + \\frac{1}{2} \\lambda \\sum_{j=1}^{T} w_j^2 $$\n",
    "\n",
    "여기서 $T$는 $f$의 leaf node의 수이고, $w_j$는 각 leaf node의 score이다.\n",
    "\n",
    "$\\gamma$와 $\\lambda$는 hyperparameter이다.\n",
    "\n",
    "즉, leaf 노드의 숫자가 많을수록, 그리고 leaf node의 score들의 제곱이 클 수록 더 큰 페널티를 받는다."
   ]
  },
  {
   "cell_type": "markdown",
   "id": "06b62302",
   "metadata": {},
   "source": [
    "### 2차 근사\n",
    "\n",
    "XGBoost가 빠른 이유 중 하나는 최적화 단계에서 loss function의 2차 근사를 사용하기 때문이다. (Gradient boosting은 1차 근사)\n",
    "\n",
    "* 2차 근사까지 이용하기 때문에, 수치해석에서 사용되며 비슷한 특징을 지는 Newton-Rapshon 방법과 비견되어, Newton boosting이라 불리우기도 한다.\n",
    "\n",
    "* 최적화 문제에서 gradient descent 방법보다 Newton-Rapshon 방법이 더 빠르다고 알려져 있는데, 이와 비슷한 원리로 XGBoost가 gradient boost보다 효율적.\n",
    "\n",
    "트리를 이용한 부스팅에서 step $t$까지 진행되었을 때 step $t$에서의 예측값은 다음으로 표현할 수 있다.\n",
    "\n",
    "$$ \\hat y^{(t)}_i = \\sum_{k=1}^{t} f_k(x_i) = \\hat y_{i}^{(t-1)} + f_t(x_i) $$\n",
    "\n",
    "여기서 $f_t$는 step $t$에서 추가되는 트리이다.\n",
    "\n",
    "XGBoost에서 어떤 loss function $\\ell$에 대해 step $t$에서의 최적화의 대상이 되는 목적함수는 다음과 같이 표현된다.\n",
    "\n",
    "$$ \\mathrm{obj}^{(t)} = \\sum_{i=1}^{n} \\ell(y_i, \\hat y_{i}^{(t)} ) + \\Omega = \\sum_{i=1}^{n} \\ell(y_i,\\hat y_{i}^{(t-1)} + f_t(x_i) ) + \\Omega $$\n",
    "\n",
    "Loss function의 두번째 인자에 대해 $\\hat y_{i}^{(t-1)}$에서 Taylor 2차 근사를 하면\n",
    "$$ \\mathrm{obj}^{(t)} \\approx  \\sum_{i=1}^{n} \\left[\\underbrace{\\ell(y_i,\\hat y_{i}^{(t-1)})}_{\\text{constant}} + \\underbrace{g_i}_{\\text{constant}}f_t(x_i) + \\frac{1}{2} \\underbrace{h_i}_{\\text{constant}} f_t^2(x_i) \\right]  + \\Omega $$\n",
    "\n",
    "로 표현할 수 있으며, 여기서 $g_i$와 $h_i$는 각각 $\\ell(y_i, \\hat y_{i}^{(t-1)})$의 두번째 인자에 대한 1차와 2차 미분을 $\\hat y_{i}^{(t-1)}$에서 계산한 값이다:\n",
    "\n",
    "$$ g_i = \\left. \\frac{\\partial \\ell(y_i, \\hat y)}{\\partial \\hat y} \\right|_{ \\hat y = \\hat y_{i}^{(t-1)}} \\quad  \\left. h_i = \\frac{\\partial^2 \\ell(y_i, \\hat y)}{\\partial \\hat y^2} \\right|_{ \\hat y = \\hat y_{i}^{(t-1)}} $$\n",
    "\n",
    "* 여기서 $g_i$와 $h_i$는 $t-1$ 단계까지의 계산된 값으로 산출되며, 즉, 모든 데이터 $i$에 대해 $t$단계에 들어가기 전에 이미 결정되어 있음.\n",
    "\n",
    "\n",
    "XGBoost 또한 일반적인 gradient boosting에서처럼 각 boosting step에서 새롭게 추가되는 트리 $f_t$에 대해서만 최적화를 진행하는 additive model이다.\n",
    "\n",
    "* 모든 가능한 트리에 대해 최적화를 진행하는 것은 어렵기 때문\n",
    "\n",
    "따라서 최적화를 step $t$에서만 추가되는 트리에 대해서만 진행한다면 목적함수에서 $\\ell(y_i,\\hat y_{i}^{(t-1)})$를 생략하고\n",
    "\n",
    "$$ \\mathrm{obj}^{(t)} \\approx  \\sum_{i=1}^{n} \\left[ g_i f_t(x_i) + \\frac{1}{2} h_i f_t^2(x_i) \\right]  + \\Omega $$\n",
    "\n",
    "로 표현할 수 있다.\n",
    "\n",
    "\n",
    "위 $\\mathrm{obj}^{(t)}$을 최소화하는 트리 $\\hat f_t$를 찾는 것은 다음을 최소화하는 $\\hat f_t$를 찾는 과정과 동치이다.\n",
    "\n",
    "$$  \\sum_{i=1}^{n}  \\frac{1}{2} h_i \\left[  - \\frac{g_i}{h_i} - f_t(x_i) \\right]^2  + \\Omega $$\n",
    "\n",
    "* $f_t$를 $- \\frac{g_i}{h_i}$에 적합하는 과정으로, XGBoost에서는 $- \\frac{g_i}{h_i} $가 gradient boosting의 residual의 역할을 담당한다고 볼 수 있다."
   ]
  },
  {
   "cell_type": "markdown",
   "id": "7cc0d3e1",
   "metadata": {},
   "source": [
    "### Structure score\n",
    "\n",
    "위 obj 함수는 규제항을 대입하여 다음과 같이 다시 표현할 수 있다.\n",
    "\n",
    "$$ \\mathrm{obj}^{(t)} \\approx  \\sum_{i=1}^{n} \\left[ g_i f_t(x_i) + \\frac{1}{2} h_i f_t^2(x_i) \\right] +  \\gamma T + \\frac{1}{2} \\lambda \\sum_{j=1}^{T} w_j^2 $$\n",
    "\n",
    "한편, 트리를 $f_t(x_i) = w_{q(x_i)}$로 표현할 수 있는데, 여기서 $q(x_i)$는 $x_i$가 최종적으로 도착할 leaf의 index로 mapping하는 함수이다.\n",
    "\n",
    "그러면,\n",
    "\n",
    "$$ \\mathrm{obj}^{(t)} \\approx  \\sum_{i=1}^{n} \\left[ g_i w_{q(x_i)} + \\frac{1}{2} h_i w^2_{q(x_i)} \\right] +  \\gamma T + \\frac{1}{2} \\lambda \\sum_{j=1}^{T} w_j^2 $$\n",
    "\n",
    "이며, 동일 leaf에서는 동일한 score를 가진다는 점을 이용하면,\n",
    "\n",
    "$$ \\mathrm{obj}^{(t)} \\approx \\sum_{j=1}^{T} \\left[ \\left(\\sum_{i \\in I_j} g_i \\right)w_j + \\frac{1}{2} \\left(\\sum_{i \\in I_j} h_j + \\lambda \\right) w_j^2 \\right] + \\gamma T $$\n",
    "\n",
    "이다. 여기서 $I_j$는 $j$번째 leaf node에 최종적으로 도착하는 $i$들의 집합이다.\n",
    "\n",
    "간단히 하기 위해 $G_j = \\sum_{i\\in I_j} g_i $, $H_j = \\sum_{i\\in I_j} h_i $라고 하면,\n",
    "\n",
    "$$ \\mathrm{obj}^{(t)} \\approx \\sum_{j=1}^{T} \\left[G_j w_j + \\frac{1}{2} (H_j + \\lambda) w_j^2 \\right] + \\gamma T $$\n",
    "\n",
    "이며, $w_j$에 대한 이차식이다.\n",
    "\n",
    "Leaf node의 스코어를 의미하는 $w_j$들은 서로 독립적이기 때문에, 각 $j$별로 optimal point를 구할 수 있다.\n",
    "\n",
    "위 식을 $w_j$에 대해 미분하였을 때 \n",
    "\n",
    "$$\\frac{\\partial \\mathrm{obj}^{(t)}}{\\partial w_j} = 0$$\n",
    "\n",
    "이 성립하는 위치를 찾으면, 이는\n",
    "\n",
    "$$ w_j^* = -\\frac{G_j}{H_j + \\lambda} $$\n",
    "\n",
    "이고, 이를 다시 obj 함수에 대입하면,\n",
    "\n",
    "$$ \\mathrm{obj}^* = - \\frac{1}{2} \\sum_{j=1}^{T} \\frac{G_j^2}{ H_j + \\lambda} + \\gamma T $$\n",
    "\n",
    "이다. \n",
    "\n",
    "위 식의 값을 tree structure score라고 부르자.\n",
    "\n",
    "* $t$단계에서 leaf 노드가 $T$개 있는 어떤 트리에 대한 structure score. <br><br>\n",
    "\n",
    "* Structure score가 작을수록 좋은 트리이다. <br><br>\n",
    "\n",
    "* 일반적인 결정트리에서 impurity measure와 비슷한 역할을 한다. <br><br>\n",
    "\n",
    "* $H_j$와 $G_j$는 트리의 각 leaf node $j$에서 $t-1$ 단계의 값들인 $\\hat y^{(t-1)}$들과 loss function을 이용해서 계산되는 값이다."
   ]
  },
  {
   "cell_type": "markdown",
   "id": "58ce6ad1-f779-4654-9411-7cedb9b6a703",
   "metadata": {},
   "source": [
    "### 실제 학습 과정\n",
    "\n",
    "각 부스팅 단계에서 최적의 트리를 찾아 보자.\n",
    "\n",
    "이를 위해서는 위에서 설명한 tree structure score를 모든 가능한 트리마다 계산해 보아야 한다.\n",
    "\n",
    "모든 가능한 weak learner들, 즉, 모든 가능한 feature variable들과 분할 기준에 대해 tree structure score를 계산해 본 후,\n",
    "\n",
    "가장 작은 tree structure score를 가지는 트리를 선택하면 된다.\n",
    "\n",
    "하지만 이는 계산상으로 쉽지 않아 기본적인 결정트리에서의 훈련처럼 일종의 greedy algorithm을 적용한다.\n",
    "\n",
    "먼저 root로부터 트리의 가지를 한 번 분할하면서, 분할할 때 tree structure score를 최대한 작게 만드는 변수와 분할 지점을 찾는다.\n",
    "\n",
    "이 때, 트리를 분할할 때 생기는 새로운 leaf node들을 각각 $L$과 $R$이라고 한다면, 이 분할을 통해 얻어지는 추가적인 score gain인\n",
    "\n",
    "$$ \\frac{1}{2} \\left[ \\frac{G_L^2}{H_L + \\lambda} + \\frac{G_R^2}{H_R + \\lambda} - \\frac{(G_L + G_R)^2}{H_L + H_R + \\lambda} \\right] - \\gamma$$\n",
    "\n",
    "를 고려한다. (위에서의 $\\mathrm{obj}^*$를 이용해 유도한 식.)\n",
    "\n",
    "$G_L$과 $H_L$, 그리고 $G_R$과 $H_R$은 새롭게 분할된 두 leaf에서 계산되는 값들이다.\n",
    "\n",
    "위 식은 트리를 추가적으로 분할할 때 (분할하지 않았을 때에 비해), score 상으로 이득을 얻는지 손해를 보는지 계산하며, 만약 이 값이 0보다 작으면 더이상 트리를 분할하지 않는다.\n",
    "\n",
    "만약 트리가 분할된다면, 이 과정을 weak learner의 미리 설정해 놓은 max depth에 이르기까지 반복한다."
   ]
  },
  {
   "cell_type": "markdown",
   "id": "986c81a3-e3e5-43ce-bb49-1fb144ba5294",
   "metadata": {},
   "source": [
    "### 요약\n",
    "\n",
    "1. 초기 모형 $f_0$은 손실 함수를 최소화하는 상수로 설정, 예를 들어 회귀 문제와 제곱손실함수의 경우 평균값 이용 <br><br>\n",
    "\n",
    "2. $t = 1, \\cdots, T$에 대해 다음을 반복 <br><br>\n",
    "\n",
    "    1. root로부터 시작하여 tree structure score를 최소화하는 변수와 분할 지점 계산 <br><br>\n",
    "    \n",
    "    2. Weak learner $f_t$의 max depth에 도달하거나 score gain이 0보다 큰 동안 지속적으로 분할 시도 (tree structure score를 최소화하는 변수와 분할 지점을 계산) <br><br>\n",
    "    \n",
    "    3. Weak learner $f_t$ 훈련되면 이전까지 훈련된 모형에 $\\eta$의 학습률로 합산 : $f = f_0 +\\eta \\sum_{i=1}^t f_i $, "
   ]
  },
  {
   "cell_type": "markdown",
   "id": "4c3a2798-3f5c-4ea5-ae10-b3c0826a4190",
   "metadata": {
    "tags": []
   },
   "source": [
    "### [XGBoost](https://xgboost.readthedocs.io/en/stable/index.html) \n",
    "\n",
    "XGBoost를 구현한 라이브러리로서 python외에도 다양한 언어가 지원된다.\n",
    "\n",
    "XGBoost 자체는 scikit-learn과는 별도의 라이브러리이지만, XGBoost는 scikit-learn의 인터페이스를 따르는 래퍼 (Wrapper) 클래스를 제공한다.\n",
    " \n",
    "이를 통해, Scikit-learn과 일관된 API를 이용할 수 있다.\n",
    "\n",
    "XGBoost의 scikit-learn 래퍼를 사용하려면 xgboost 패키지를 설치한 후, `xgboost.XGBRegressor` 또는 `xgboost.XGBClassifier`와 같은 클래스를 import하여 사용할 수 있다.\n",
    "\n",
    "이러한 클래스는 scikit-learn의 `fit`, `predict` 등과 같은 메서드를 제공하여 모델을 학습하고 예측할 수 있도록 한다."
   ]
  },
  {
   "cell_type": "markdown",
   "id": "7206a7f7",
   "metadata": {},
   "source": [
    "### 예제 : Iris 데이터\n",
    "\n",
    "[`xgboost.XGBClassifier`](https://xgboost.readthedocs.io/en/stable/python/python_api.html#xgboost.XGBClassifier)를 이용하여 먼저 간단한 분류 모형을 연습해 보자.\n",
    "\n",
    "기본적으로 XGBoost의 분류는 binary 분류를 기반으로 하기 때문에, 0과 1의 두 클래스가 있는 경우를 먼저 살펴본다.\n",
    "\n",
    "Iris data의 y값은 3개의 클래스이나, 간단히 versicolor인지 아닌지 체크하는 문제를 살펴보자."
   ]
  },
  {
   "cell_type": "code",
   "execution_count": 1,
   "id": "a14f2ecd-f8c2-4413-9c6d-e1e599e9c456",
   "metadata": {
    "tags": []
   },
   "outputs": [],
   "source": [
    "import xgboost\n",
    "from xgboost import XGBClassifier"
   ]
  },
  {
   "cell_type": "code",
   "execution_count": 2,
   "id": "599c7101",
   "metadata": {
    "tags": []
   },
   "outputs": [
    {
     "data": {
      "text/plain": [
       "array(['setosa', 'versicolor', 'virginica'], dtype='<U10')"
      ]
     },
     "execution_count": 2,
     "metadata": {},
     "output_type": "execute_result"
    }
   ],
   "source": [
    "from sklearn.datasets import load_iris\n",
    "from sklearn.model_selection import train_test_split\n",
    "data = load_iris()\n",
    "X_train, X_test, y_train, y_test = train_test_split(data['data'], data['target'], test_size=.2)\n",
    "\n",
    "# versicolor or not\n",
    "y_train[y_train != 1] = 0\n",
    "y_test[y_test != 1] = 0\n",
    "data.target_names"
   ]
  },
  {
   "cell_type": "markdown",
   "id": "94a3250d-1af4-43aa-9069-9cfefa5d651e",
   "metadata": {},
   "source": [
    "연습을 위해 [`XGBClassifier`](https://xgboost.readthedocs.io/en/stable/python/python_api.html#xgboost.XGBClassifier)를 이용한 매우 간단한 모형을 살펴보자.\n",
    "\n",
    "Weak learner는 최대 깊이 1의 stump이다.\n",
    "\n",
    "Boosting의 단계 수는 2으로 하였다. (보통은 훨씬 많은 단계를 사용한다.)\n",
    "\n",
    "scikit-learn의 문법과 흡사하게, 분류기를 생성하고 [`.fit()`](https://xgboost.readthedocs.io/en/stable/python/python_api.html#xgboost.XGBClassifier.fit) method를 이용해 훈련할 수 있다."
   ]
  },
  {
   "cell_type": "code",
   "execution_count": 3,
   "id": "8095d201",
   "metadata": {
    "scrolled": true,
    "tags": []
   },
   "outputs": [
    {
     "data": {
      "text/html": [
       "<style>#sk-container-id-1 {color: black;background-color: white;}#sk-container-id-1 pre{padding: 0;}#sk-container-id-1 div.sk-toggleable {background-color: white;}#sk-container-id-1 label.sk-toggleable__label {cursor: pointer;display: block;width: 100%;margin-bottom: 0;padding: 0.3em;box-sizing: border-box;text-align: center;}#sk-container-id-1 label.sk-toggleable__label-arrow:before {content: \"▸\";float: left;margin-right: 0.25em;color: #696969;}#sk-container-id-1 label.sk-toggleable__label-arrow:hover:before {color: black;}#sk-container-id-1 div.sk-estimator:hover label.sk-toggleable__label-arrow:before {color: black;}#sk-container-id-1 div.sk-toggleable__content {max-height: 0;max-width: 0;overflow: hidden;text-align: left;background-color: #f0f8ff;}#sk-container-id-1 div.sk-toggleable__content pre {margin: 0.2em;color: black;border-radius: 0.25em;background-color: #f0f8ff;}#sk-container-id-1 input.sk-toggleable__control:checked~div.sk-toggleable__content {max-height: 200px;max-width: 100%;overflow: auto;}#sk-container-id-1 input.sk-toggleable__control:checked~label.sk-toggleable__label-arrow:before {content: \"▾\";}#sk-container-id-1 div.sk-estimator input.sk-toggleable__control:checked~label.sk-toggleable__label {background-color: #d4ebff;}#sk-container-id-1 div.sk-label input.sk-toggleable__control:checked~label.sk-toggleable__label {background-color: #d4ebff;}#sk-container-id-1 input.sk-hidden--visually {border: 0;clip: rect(1px 1px 1px 1px);clip: rect(1px, 1px, 1px, 1px);height: 1px;margin: -1px;overflow: hidden;padding: 0;position: absolute;width: 1px;}#sk-container-id-1 div.sk-estimator {font-family: monospace;background-color: #f0f8ff;border: 1px dotted black;border-radius: 0.25em;box-sizing: border-box;margin-bottom: 0.5em;}#sk-container-id-1 div.sk-estimator:hover {background-color: #d4ebff;}#sk-container-id-1 div.sk-parallel-item::after {content: \"\";width: 100%;border-bottom: 1px solid gray;flex-grow: 1;}#sk-container-id-1 div.sk-label:hover label.sk-toggleable__label {background-color: #d4ebff;}#sk-container-id-1 div.sk-serial::before {content: \"\";position: absolute;border-left: 1px solid gray;box-sizing: border-box;top: 0;bottom: 0;left: 50%;z-index: 0;}#sk-container-id-1 div.sk-serial {display: flex;flex-direction: column;align-items: center;background-color: white;padding-right: 0.2em;padding-left: 0.2em;position: relative;}#sk-container-id-1 div.sk-item {position: relative;z-index: 1;}#sk-container-id-1 div.sk-parallel {display: flex;align-items: stretch;justify-content: center;background-color: white;position: relative;}#sk-container-id-1 div.sk-item::before, #sk-container-id-1 div.sk-parallel-item::before {content: \"\";position: absolute;border-left: 1px solid gray;box-sizing: border-box;top: 0;bottom: 0;left: 50%;z-index: -1;}#sk-container-id-1 div.sk-parallel-item {display: flex;flex-direction: column;z-index: 1;position: relative;background-color: white;}#sk-container-id-1 div.sk-parallel-item:first-child::after {align-self: flex-end;width: 50%;}#sk-container-id-1 div.sk-parallel-item:last-child::after {align-self: flex-start;width: 50%;}#sk-container-id-1 div.sk-parallel-item:only-child::after {width: 0;}#sk-container-id-1 div.sk-dashed-wrapped {border: 1px dashed gray;margin: 0 0.4em 0.5em 0.4em;box-sizing: border-box;padding-bottom: 0.4em;background-color: white;}#sk-container-id-1 div.sk-label label {font-family: monospace;font-weight: bold;display: inline-block;line-height: 1.2em;}#sk-container-id-1 div.sk-label-container {text-align: center;}#sk-container-id-1 div.sk-container {/* jupyter's `normalize.less` sets `[hidden] { display: none; }` but bootstrap.min.css set `[hidden] { display: none !important; }` so we also need the `!important` here to be able to override the default hidden behavior on the sphinx rendered scikit-learn.org. See: https://github.com/scikit-learn/scikit-learn/issues/21755 */display: inline-block !important;position: relative;}#sk-container-id-1 div.sk-text-repr-fallback {display: none;}</style><div id=\"sk-container-id-1\" class=\"sk-top-container\"><div class=\"sk-text-repr-fallback\"><pre>XGBClassifier(base_score=None, booster=None, callbacks=None,\n",
       "              colsample_bylevel=None, colsample_bynode=None,\n",
       "              colsample_bytree=None, early_stopping_rounds=None,\n",
       "              enable_categorical=False, eval_metric=None, feature_types=None,\n",
       "              gamma=None, gpu_id=None, grow_policy=None, importance_type=None,\n",
       "              interaction_constraints=None, learning_rate=None, max_bin=None,\n",
       "              max_cat_threshold=None, max_cat_to_onehot=None,\n",
       "              max_delta_step=None, max_depth=1, max_leaves=None,\n",
       "              min_child_weight=None, missing=nan, monotone_constraints=None,\n",
       "              n_estimators=2, n_jobs=None, num_parallel_tree=None,\n",
       "              predictor=None, random_state=None, ...)</pre><b>In a Jupyter environment, please rerun this cell to show the HTML representation or trust the notebook. <br />On GitHub, the HTML representation is unable to render, please try loading this page with nbviewer.org.</b></div><div class=\"sk-container\" hidden><div class=\"sk-item\"><div class=\"sk-estimator sk-toggleable\"><input class=\"sk-toggleable__control sk-hidden--visually\" id=\"sk-estimator-id-1\" type=\"checkbox\" checked><label for=\"sk-estimator-id-1\" class=\"sk-toggleable__label sk-toggleable__label-arrow\">XGBClassifier</label><div class=\"sk-toggleable__content\"><pre>XGBClassifier(base_score=None, booster=None, callbacks=None,\n",
       "              colsample_bylevel=None, colsample_bynode=None,\n",
       "              colsample_bytree=None, early_stopping_rounds=None,\n",
       "              enable_categorical=False, eval_metric=None, feature_types=None,\n",
       "              gamma=None, gpu_id=None, grow_policy=None, importance_type=None,\n",
       "              interaction_constraints=None, learning_rate=None, max_bin=None,\n",
       "              max_cat_threshold=None, max_cat_to_onehot=None,\n",
       "              max_delta_step=None, max_depth=1, max_leaves=None,\n",
       "              min_child_weight=None, missing=nan, monotone_constraints=None,\n",
       "              n_estimators=2, n_jobs=None, num_parallel_tree=None,\n",
       "              predictor=None, random_state=None, ...)</pre></div></div></div></div></div>"
      ],
      "text/plain": [
       "XGBClassifier(base_score=None, booster=None, callbacks=None,\n",
       "              colsample_bylevel=None, colsample_bynode=None,\n",
       "              colsample_bytree=None, early_stopping_rounds=None,\n",
       "              enable_categorical=False, eval_metric=None, feature_types=None,\n",
       "              gamma=None, gpu_id=None, grow_policy=None, importance_type=None,\n",
       "              interaction_constraints=None, learning_rate=None, max_bin=None,\n",
       "              max_cat_threshold=None, max_cat_to_onehot=None,\n",
       "              max_delta_step=None, max_depth=1, max_leaves=None,\n",
       "              min_child_weight=None, missing=nan, monotone_constraints=None,\n",
       "              n_estimators=2, n_jobs=None, num_parallel_tree=None,\n",
       "              predictor=None, random_state=None, ...)"
      ]
     },
     "execution_count": 3,
     "metadata": {},
     "output_type": "execute_result"
    }
   ],
   "source": [
    "xg_clf = XGBClassifier(n_estimators=2, max_depth=1)\n",
    "\n",
    "xg_clf "
   ]
  },
  {
   "cell_type": "code",
   "execution_count": 4,
   "id": "ba5b7a3a",
   "metadata": {},
   "outputs": [
    {
     "data": {
      "text/html": [
       "<style>#sk-container-id-2 {color: black;background-color: white;}#sk-container-id-2 pre{padding: 0;}#sk-container-id-2 div.sk-toggleable {background-color: white;}#sk-container-id-2 label.sk-toggleable__label {cursor: pointer;display: block;width: 100%;margin-bottom: 0;padding: 0.3em;box-sizing: border-box;text-align: center;}#sk-container-id-2 label.sk-toggleable__label-arrow:before {content: \"▸\";float: left;margin-right: 0.25em;color: #696969;}#sk-container-id-2 label.sk-toggleable__label-arrow:hover:before {color: black;}#sk-container-id-2 div.sk-estimator:hover label.sk-toggleable__label-arrow:before {color: black;}#sk-container-id-2 div.sk-toggleable__content {max-height: 0;max-width: 0;overflow: hidden;text-align: left;background-color: #f0f8ff;}#sk-container-id-2 div.sk-toggleable__content pre {margin: 0.2em;color: black;border-radius: 0.25em;background-color: #f0f8ff;}#sk-container-id-2 input.sk-toggleable__control:checked~div.sk-toggleable__content {max-height: 200px;max-width: 100%;overflow: auto;}#sk-container-id-2 input.sk-toggleable__control:checked~label.sk-toggleable__label-arrow:before {content: \"▾\";}#sk-container-id-2 div.sk-estimator input.sk-toggleable__control:checked~label.sk-toggleable__label {background-color: #d4ebff;}#sk-container-id-2 div.sk-label input.sk-toggleable__control:checked~label.sk-toggleable__label {background-color: #d4ebff;}#sk-container-id-2 input.sk-hidden--visually {border: 0;clip: rect(1px 1px 1px 1px);clip: rect(1px, 1px, 1px, 1px);height: 1px;margin: -1px;overflow: hidden;padding: 0;position: absolute;width: 1px;}#sk-container-id-2 div.sk-estimator {font-family: monospace;background-color: #f0f8ff;border: 1px dotted black;border-radius: 0.25em;box-sizing: border-box;margin-bottom: 0.5em;}#sk-container-id-2 div.sk-estimator:hover {background-color: #d4ebff;}#sk-container-id-2 div.sk-parallel-item::after {content: \"\";width: 100%;border-bottom: 1px solid gray;flex-grow: 1;}#sk-container-id-2 div.sk-label:hover label.sk-toggleable__label {background-color: #d4ebff;}#sk-container-id-2 div.sk-serial::before {content: \"\";position: absolute;border-left: 1px solid gray;box-sizing: border-box;top: 0;bottom: 0;left: 50%;z-index: 0;}#sk-container-id-2 div.sk-serial {display: flex;flex-direction: column;align-items: center;background-color: white;padding-right: 0.2em;padding-left: 0.2em;position: relative;}#sk-container-id-2 div.sk-item {position: relative;z-index: 1;}#sk-container-id-2 div.sk-parallel {display: flex;align-items: stretch;justify-content: center;background-color: white;position: relative;}#sk-container-id-2 div.sk-item::before, #sk-container-id-2 div.sk-parallel-item::before {content: \"\";position: absolute;border-left: 1px solid gray;box-sizing: border-box;top: 0;bottom: 0;left: 50%;z-index: -1;}#sk-container-id-2 div.sk-parallel-item {display: flex;flex-direction: column;z-index: 1;position: relative;background-color: white;}#sk-container-id-2 div.sk-parallel-item:first-child::after {align-self: flex-end;width: 50%;}#sk-container-id-2 div.sk-parallel-item:last-child::after {align-self: flex-start;width: 50%;}#sk-container-id-2 div.sk-parallel-item:only-child::after {width: 0;}#sk-container-id-2 div.sk-dashed-wrapped {border: 1px dashed gray;margin: 0 0.4em 0.5em 0.4em;box-sizing: border-box;padding-bottom: 0.4em;background-color: white;}#sk-container-id-2 div.sk-label label {font-family: monospace;font-weight: bold;display: inline-block;line-height: 1.2em;}#sk-container-id-2 div.sk-label-container {text-align: center;}#sk-container-id-2 div.sk-container {/* jupyter's `normalize.less` sets `[hidden] { display: none; }` but bootstrap.min.css set `[hidden] { display: none !important; }` so we also need the `!important` here to be able to override the default hidden behavior on the sphinx rendered scikit-learn.org. See: https://github.com/scikit-learn/scikit-learn/issues/21755 */display: inline-block !important;position: relative;}#sk-container-id-2 div.sk-text-repr-fallback {display: none;}</style><div id=\"sk-container-id-2\" class=\"sk-top-container\"><div class=\"sk-text-repr-fallback\"><pre>XGBClassifier(base_score=None, booster=None, callbacks=None,\n",
       "              colsample_bylevel=None, colsample_bynode=None,\n",
       "              colsample_bytree=None, early_stopping_rounds=None,\n",
       "              enable_categorical=False, eval_metric=None, feature_types=None,\n",
       "              gamma=None, gpu_id=None, grow_policy=None, importance_type=None,\n",
       "              interaction_constraints=None, learning_rate=None, max_bin=None,\n",
       "              max_cat_threshold=None, max_cat_to_onehot=None,\n",
       "              max_delta_step=None, max_depth=1, max_leaves=None,\n",
       "              min_child_weight=None, missing=nan, monotone_constraints=None,\n",
       "              n_estimators=2, n_jobs=None, num_parallel_tree=None,\n",
       "              predictor=None, random_state=None, ...)</pre><b>In a Jupyter environment, please rerun this cell to show the HTML representation or trust the notebook. <br />On GitHub, the HTML representation is unable to render, please try loading this page with nbviewer.org.</b></div><div class=\"sk-container\" hidden><div class=\"sk-item\"><div class=\"sk-estimator sk-toggleable\"><input class=\"sk-toggleable__control sk-hidden--visually\" id=\"sk-estimator-id-2\" type=\"checkbox\" checked><label for=\"sk-estimator-id-2\" class=\"sk-toggleable__label sk-toggleable__label-arrow\">XGBClassifier</label><div class=\"sk-toggleable__content\"><pre>XGBClassifier(base_score=None, booster=None, callbacks=None,\n",
       "              colsample_bylevel=None, colsample_bynode=None,\n",
       "              colsample_bytree=None, early_stopping_rounds=None,\n",
       "              enable_categorical=False, eval_metric=None, feature_types=None,\n",
       "              gamma=None, gpu_id=None, grow_policy=None, importance_type=None,\n",
       "              interaction_constraints=None, learning_rate=None, max_bin=None,\n",
       "              max_cat_threshold=None, max_cat_to_onehot=None,\n",
       "              max_delta_step=None, max_depth=1, max_leaves=None,\n",
       "              min_child_weight=None, missing=nan, monotone_constraints=None,\n",
       "              n_estimators=2, n_jobs=None, num_parallel_tree=None,\n",
       "              predictor=None, random_state=None, ...)</pre></div></div></div></div></div>"
      ],
      "text/plain": [
       "XGBClassifier(base_score=None, booster=None, callbacks=None,\n",
       "              colsample_bylevel=None, colsample_bynode=None,\n",
       "              colsample_bytree=None, early_stopping_rounds=None,\n",
       "              enable_categorical=False, eval_metric=None, feature_types=None,\n",
       "              gamma=None, gpu_id=None, grow_policy=None, importance_type=None,\n",
       "              interaction_constraints=None, learning_rate=None, max_bin=None,\n",
       "              max_cat_threshold=None, max_cat_to_onehot=None,\n",
       "              max_delta_step=None, max_depth=1, max_leaves=None,\n",
       "              min_child_weight=None, missing=nan, monotone_constraints=None,\n",
       "              n_estimators=2, n_jobs=None, num_parallel_tree=None,\n",
       "              predictor=None, random_state=None, ...)"
      ]
     },
     "execution_count": 4,
     "metadata": {},
     "output_type": "execute_result"
    }
   ],
   "source": [
    "xg_clf.fit(X_train, y_train)"
   ]
  },
  {
   "cell_type": "markdown",
   "id": "8061ebf2",
   "metadata": {},
   "source": [
    "다른 sklearn의 머신러닝 모형들과 비슷하게 [`.predict()`](https://xgboost.readthedocs.io/en/stable/python/python_api.html#xgboost.XGBClassifier.predict)를 이용하여 클래스를 예측한다. "
   ]
  },
  {
   "cell_type": "code",
   "execution_count": 5,
   "id": "77057152-ba7c-41b3-a8c5-cc652592b429",
   "metadata": {
    "tags": []
   },
   "outputs": [
    {
     "data": {
      "text/plain": [
       "array([0, 1, 0, 0, 0, 0, 0, 0, 0, 1, 0, 0, 0, 1, 0, 1, 1, 0, 1, 0, 0, 1,\n",
       "       0, 0, 0, 0, 1, 1, 0, 1])"
      ]
     },
     "execution_count": 5,
     "metadata": {},
     "output_type": "execute_result"
    }
   ],
   "source": [
    "xg_clf.predict(X_test)"
   ]
  },
  {
   "cell_type": "code",
   "execution_count": 6,
   "id": "b8222db3-70af-429f-bd02-8e9baa20c7ff",
   "metadata": {
    "tags": []
   },
   "outputs": [
    {
     "data": {
      "text/plain": [
       "array([0, 1, 0, 0, 0, 0, 0, 0, 0, 1, 0, 0, 0, 1, 0, 1, 1, 0, 1, 0, 0, 1,\n",
       "       1, 0, 0, 1, 1, 1, 0, 1])"
      ]
     },
     "execution_count": 6,
     "metadata": {},
     "output_type": "execute_result"
    }
   ],
   "source": [
    "# 실제 y값과의 비교\n",
    "y_test"
   ]
  },
  {
   "cell_type": "markdown",
   "id": "31bd6445-c8b5-4c86-96c5-0aa8a7c2e677",
   "metadata": {},
   "source": [
    "[get_booster()](https://xgboost.readthedocs.io/en/stable/python/python_api.html#xgboost.XGBClassifier.get_booster)를 이용하면 훈련된 개별 트리들을 살펴볼 수 있다.\n",
    "\n",
    "각 트리를 그대로 출력하면, 인간이 알아볼 수 있는 형태는 아니다."
   ]
  },
  {
   "cell_type": "code",
   "execution_count": 7,
   "id": "f3865be4",
   "metadata": {
    "tags": []
   },
   "outputs": [
    {
     "data": {
      "text/plain": [
       "[<xgboost.core.Booster at 0x13c354a24d0>,\n",
       " <xgboost.core.Booster at 0x13c354a27d0>]"
      ]
     },
     "execution_count": 7,
     "metadata": {},
     "output_type": "execute_result"
    }
   ],
   "source": [
    "booster = xg_clf.get_booster()\n",
    "# 개별 트리들의 feature 변수 이름을 원래 데이터의 feature_names를 이용하여 지정\n",
    "booster.feature_names = list(data.feature_names)\n",
    "individual_trees = list(booster)\n",
    "individual_trees"
   ]
  },
  {
   "cell_type": "markdown",
   "id": "ead19c78",
   "metadata": {},
   "source": [
    "XGBoost의 [`Booster`](https://xgboost.readthedocs.io/en/stable/python/python_api.html#xgboost.Booster) 클래스는 XGBoost 라이브러리 내부에서 사용되는 독자적인 트리 혹은 트리 앙상블을 관리하는 구현체라고 볼 수 있다."
   ]
  },
  {
   "cell_type": "code",
   "execution_count": 8,
   "id": "d3c8d8b8",
   "metadata": {},
   "outputs": [
    {
     "data": {
      "text/plain": [
       "xgboost.core.Booster"
      ]
     },
     "execution_count": 8,
     "metadata": {},
     "output_type": "execute_result"
    }
   ],
   "source": [
    "type(booster)"
   ]
  },
  {
   "cell_type": "code",
   "execution_count": 9,
   "id": "486d63ca",
   "metadata": {},
   "outputs": [
    {
     "data": {
      "text/plain": [
       "xgboost.core.Booster"
      ]
     },
     "execution_count": 9,
     "metadata": {},
     "output_type": "execute_result"
    }
   ],
   "source": [
    "type(individual_trees[0])"
   ]
  },
  {
   "cell_type": "markdown",
   "id": "b6816871-6621-4879-a4a1-47af9fe30640",
   "metadata": {},
   "source": [
    "위에서 생성한 [`booster`](https://xgboost.readthedocs.io/en/stable/python/python_api.html#xgboost.Booster)의 메쏘드인 [`get_dump()`](https://xgboost.readthedocs.io/en/stable/python/python_api.html#xgboost.Booster.get_dump)를 이용하면 트리들을 읽을 수 있는 문자열의 형태로 받아올 수 있다.\n",
    "\n",
    "훈련된 간단한 stump들이 2개 있음을 확인할 수 있으며, 분기 기준 및 leaf node들의 score들을 관찰할 수 있다."
   ]
  },
  {
   "cell_type": "code",
   "execution_count": 10,
   "id": "3c157c1e",
   "metadata": {
    "tags": []
   },
   "outputs": [],
   "source": [
    "tree_list = booster.get_dump()"
   ]
  },
  {
   "cell_type": "code",
   "execution_count": 11,
   "id": "251c490c",
   "metadata": {},
   "outputs": [
    {
     "data": {
      "text/plain": [
       "['0:[petal length (cm)<2.5999999] yes=1,no=2,missing=1\\n\\t1:leaf=-0.545454562\\n\\t2:leaf=-0.0285714306\\n',\n",
       " '0:[petal width (cm)<1.6500001] yes=1,no=2,missing=1\\n\\t1:leaf=0.0378537774\\n\\t2:leaf=-0.535201311\\n']"
      ]
     },
     "execution_count": 11,
     "metadata": {},
     "output_type": "execute_result"
    }
   ],
   "source": [
    "tree_list"
   ]
  },
  {
   "cell_type": "code",
   "execution_count": 12,
   "id": "07817c20",
   "metadata": {
    "tags": []
   },
   "outputs": [
    {
     "name": "stdout",
     "output_type": "stream",
     "text": [
      "Tree 0:\n",
      "0:[petal length (cm)<2.5999999] yes=1,no=2,missing=1\n",
      "\t1:leaf=-0.545454562\n",
      "\t2:leaf=-0.0285714306\n",
      "\n",
      "\n",
      "Tree 1:\n",
      "0:[petal width (cm)<1.6500001] yes=1,no=2,missing=1\n",
      "\t1:leaf=0.0378537774\n",
      "\t2:leaf=-0.535201311\n",
      "\n",
      "\n"
     ]
    }
   ],
   "source": [
    "for i, tree in enumerate(tree_list):\n",
    "    print(f\"Tree {i}:\\n{tree}\\n\")"
   ]
  },
  {
   "cell_type": "markdown",
   "id": "5d7d3d75-5348-42ff-aeaf-982c95663857",
   "metadata": {},
   "source": [
    "혹은 [`trees_to_dataframe()`](https://xgboost.readthedocs.io/en/stable/python/python_api.html#xgboost.Booster.trees_to_dataframe)을 이용한 다음의 방법으로 트리들을 관찰할 수 있다.\n",
    "\n",
    "* Gain 열의 값은 leaf 노드에 대해서는 score를 기록하고, non-leaf 노드에서는 노드 분할을 통해 얻는 score gain을 나타낸다."
   ]
  },
  {
   "cell_type": "code",
   "execution_count": 13,
   "id": "df5bdf68-c50d-4204-8eeb-9890d839ace2",
   "metadata": {
    "scrolled": true,
    "tags": []
   },
   "outputs": [
    {
     "data": {
      "text/html": [
       "<div>\n",
       "<style scoped>\n",
       "    .dataframe tbody tr th:only-of-type {\n",
       "        vertical-align: middle;\n",
       "    }\n",
       "\n",
       "    .dataframe tbody tr th {\n",
       "        vertical-align: top;\n",
       "    }\n",
       "\n",
       "    .dataframe thead th {\n",
       "        text-align: right;\n",
       "    }\n",
       "</style>\n",
       "<table border=\"1\" class=\"dataframe\">\n",
       "  <thead>\n",
       "    <tr style=\"text-align: right;\">\n",
       "      <th></th>\n",
       "      <th>Tree</th>\n",
       "      <th>Node</th>\n",
       "      <th>ID</th>\n",
       "      <th>Feature</th>\n",
       "      <th>Split</th>\n",
       "      <th>Yes</th>\n",
       "      <th>No</th>\n",
       "      <th>Missing</th>\n",
       "      <th>Gain</th>\n",
       "      <th>Cover</th>\n",
       "      <th>Category</th>\n",
       "    </tr>\n",
       "  </thead>\n",
       "  <tbody>\n",
       "    <tr>\n",
       "      <th>0</th>\n",
       "      <td>0</td>\n",
       "      <td>0</td>\n",
       "      <td>0-0</td>\n",
       "      <td>petal length (cm)</td>\n",
       "      <td>2.60</td>\n",
       "      <td>0-1</td>\n",
       "      <td>0-2</td>\n",
       "      <td>0-1</td>\n",
       "      <td>20.941208</td>\n",
       "      <td>30.000000</td>\n",
       "      <td>NaN</td>\n",
       "    </tr>\n",
       "    <tr>\n",
       "      <th>1</th>\n",
       "      <td>0</td>\n",
       "      <td>1</td>\n",
       "      <td>0-1</td>\n",
       "      <td>Leaf</td>\n",
       "      <td>NaN</td>\n",
       "      <td>NaN</td>\n",
       "      <td>NaN</td>\n",
       "      <td>NaN</td>\n",
       "      <td>-0.545455</td>\n",
       "      <td>10.000000</td>\n",
       "      <td>NaN</td>\n",
       "    </tr>\n",
       "    <tr>\n",
       "      <th>2</th>\n",
       "      <td>0</td>\n",
       "      <td>2</td>\n",
       "      <td>0-2</td>\n",
       "      <td>Leaf</td>\n",
       "      <td>NaN</td>\n",
       "      <td>NaN</td>\n",
       "      <td>NaN</td>\n",
       "      <td>NaN</td>\n",
       "      <td>-0.028571</td>\n",
       "      <td>20.000000</td>\n",
       "      <td>NaN</td>\n",
       "    </tr>\n",
       "    <tr>\n",
       "      <th>3</th>\n",
       "      <td>1</td>\n",
       "      <td>0</td>\n",
       "      <td>1-0</td>\n",
       "      <td>petal width (cm)</td>\n",
       "      <td>1.65</td>\n",
       "      <td>1-1</td>\n",
       "      <td>1-2</td>\n",
       "      <td>1-1</td>\n",
       "      <td>25.178829</td>\n",
       "      <td>29.287506</td>\n",
       "      <td>NaN</td>\n",
       "    </tr>\n",
       "    <tr>\n",
       "      <th>4</th>\n",
       "      <td>1</td>\n",
       "      <td>1</td>\n",
       "      <td>1-1</td>\n",
       "      <td>Leaf</td>\n",
       "      <td>NaN</td>\n",
       "      <td>NaN</td>\n",
       "      <td>NaN</td>\n",
       "      <td>NaN</td>\n",
       "      <td>0.037854</td>\n",
       "      <td>19.789442</td>\n",
       "      <td>NaN</td>\n",
       "    </tr>\n",
       "    <tr>\n",
       "      <th>5</th>\n",
       "      <td>1</td>\n",
       "      <td>2</td>\n",
       "      <td>1-2</td>\n",
       "      <td>Leaf</td>\n",
       "      <td>NaN</td>\n",
       "      <td>NaN</td>\n",
       "      <td>NaN</td>\n",
       "      <td>NaN</td>\n",
       "      <td>-0.535201</td>\n",
       "      <td>9.498062</td>\n",
       "      <td>NaN</td>\n",
       "    </tr>\n",
       "  </tbody>\n",
       "</table>\n",
       "</div>"
      ],
      "text/plain": [
       "   Tree  Node   ID            Feature  Split  Yes   No Missing       Gain   \n",
       "0     0     0  0-0  petal length (cm)   2.60  0-1  0-2     0-1  20.941208  \\\n",
       "1     0     1  0-1               Leaf    NaN  NaN  NaN     NaN  -0.545455   \n",
       "2     0     2  0-2               Leaf    NaN  NaN  NaN     NaN  -0.028571   \n",
       "3     1     0  1-0   petal width (cm)   1.65  1-1  1-2     1-1  25.178829   \n",
       "4     1     1  1-1               Leaf    NaN  NaN  NaN     NaN   0.037854   \n",
       "5     1     2  1-2               Leaf    NaN  NaN  NaN     NaN  -0.535201   \n",
       "\n",
       "       Cover  Category  \n",
       "0  30.000000       NaN  \n",
       "1  10.000000       NaN  \n",
       "2  20.000000       NaN  \n",
       "3  29.287506       NaN  \n",
       "4  19.789442       NaN  \n",
       "5   9.498062       NaN  "
      ]
     },
     "execution_count": 13,
     "metadata": {},
     "output_type": "execute_result"
    }
   ],
   "source": [
    "df_tree = booster.trees_to_dataframe()\n",
    "df_tree"
   ]
  },
  {
   "cell_type": "markdown",
   "id": "051f7258",
   "metadata": {},
   "source": [
    "각 weak learner들을 이용하여 예측을 할 수도 있다. `iteration_range`를 통해 시작과 끝을 정하여 예측에 사용할 트리들을 지정할 수 있다."
   ]
  },
  {
   "cell_type": "code",
   "execution_count": 14,
   "id": "0e3b2e42-8365-4d99-bec5-821d72589ca1",
   "metadata": {
    "tags": []
   },
   "outputs": [
    {
     "data": {
      "text/plain": [
       "array([0, 0, 0, 0, 0, 0, 0, 0, 0, 0, 0, 0, 0, 0, 0, 0, 0, 0, 0, 0, 0, 0,\n",
       "       0, 0, 0, 0, 0, 0, 0, 0])"
      ]
     },
     "execution_count": 14,
     "metadata": {},
     "output_type": "execute_result"
    }
   ],
   "source": [
    "# 첫번째 트리만을 이용\n",
    "xg_clf.predict(X_test, iteration_range=(0, 1))"
   ]
  },
  {
   "cell_type": "code",
   "execution_count": 15,
   "id": "5059f2ab-6a28-4b40-a9dc-327d73da83aa",
   "metadata": {
    "tags": []
   },
   "outputs": [
    {
     "data": {
      "text/plain": [
       "array([1, 1, 1, 1, 0, 0, 0, 0, 1, 1, 1, 1, 1, 1, 0, 1, 1, 1, 1, 0, 0, 1,\n",
       "       0, 0, 1, 0, 1, 1, 1, 1])"
      ]
     },
     "execution_count": 15,
     "metadata": {},
     "output_type": "execute_result"
    }
   ],
   "source": [
    "# 두번째 트리만을 이용\n",
    "xg_clf.predict(X_test, iteration_range=(1, 2))"
   ]
  },
  {
   "cell_type": "code",
   "execution_count": 16,
   "id": "95ac67f4-1348-47d5-99ba-5caab59d30cd",
   "metadata": {
    "tags": []
   },
   "outputs": [
    {
     "data": {
      "text/plain": [
       "array([0, 1, 0, 0, 0, 0, 0, 0, 0, 1, 0, 0, 0, 1, 0, 1, 1, 0, 1, 0, 0, 1,\n",
       "       0, 0, 0, 0, 1, 1, 0, 1])"
      ]
     },
     "execution_count": 16,
     "metadata": {},
     "output_type": "execute_result"
    }
   ],
   "source": [
    "# 전체 모델을 이용\n",
    "xg_clf.predict(X_test)"
   ]
  },
  {
   "cell_type": "markdown",
   "id": "7c7df9c1-f345-4df5-b377-6572bab8d20e",
   "metadata": {},
   "source": [
    "다음의 과정을 통해 leaf score에 따라 분류가 어떻게 이루어지는지 대략적으로 파악할 수 있다.\n",
    "\n",
    "먼저 [`apply()`](https://xgboost.readthedocs.io/en/stable/python/python_api.html#xgboost.XGBClassifier.apply)를 이용하여 테스트 데이터가 각 트리에서 어떤 leaf에 떨어지는지 살펴보자.\n",
    "\n",
    "`apply()`는 X 값들을 인자로 받아, 각 값들이 어떤 leaf 노드로 떨어지는지 보여준다.\n",
    "\n",
    "결과의 각 열이 각 트리를 나타내고, 각 열의 숫자값이 leaf의 index를 나타낸다. 각 행은 각 데이터를 나타낸다."
   ]
  },
  {
   "cell_type": "code",
   "execution_count": 17,
   "id": "00203e2a-6111-43d1-b30f-e3bab672a7af",
   "metadata": {
    "tags": []
   },
   "outputs": [
    {
     "data": {
      "text/plain": [
       "array([[1., 1.],\n",
       "       [2., 1.],\n",
       "       [1., 1.],\n",
       "       [1., 1.],\n",
       "       [2., 2.],\n",
       "       [2., 2.],\n",
       "       [2., 2.],\n",
       "       [2., 2.],\n",
       "       [1., 1.],\n",
       "       [2., 1.]], dtype=float32)"
      ]
     },
     "execution_count": 17,
     "metadata": {},
     "output_type": "execute_result"
    }
   ],
   "source": [
    "import pandas as pd\n",
    "\n",
    "df_X_test = pd.DataFrame(X_test, columns=data.feature_names)\n",
    "applied = xg_clf.apply(df_X_test)\n",
    "applied[:10, ]"
   ]
  },
  {
   "cell_type": "markdown",
   "id": "fde2f8bb",
   "metadata": {},
   "source": [
    "지금의 예제에서는 부스팅에 사용한 트리가 2개 밖에 없으므로, 다음의 간단한 코드를 통해 test 데이터가 어떤 스코어를 가지는지 계산해 볼 수 있다.\n",
    "\n",
    "해당 스코어에 따라 어떤 클래스로 prediction이 이루어졌는지 살펴보자.\n",
    "\n",
    "양의 score는 1로 예측되고, 음의 score는 0으로 예측된다."
   ]
  },
  {
   "cell_type": "code",
   "execution_count": 18,
   "id": "913cd649-5002-4b75-8cba-31b2e80d3128",
   "metadata": {
    "tags": []
   },
   "outputs": [
    {
     "data": {
      "text/html": [
       "<div>\n",
       "<style scoped>\n",
       "    .dataframe tbody tr th:only-of-type {\n",
       "        vertical-align: middle;\n",
       "    }\n",
       "\n",
       "    .dataframe tbody tr th {\n",
       "        vertical-align: top;\n",
       "    }\n",
       "\n",
       "    .dataframe thead th {\n",
       "        text-align: right;\n",
       "    }\n",
       "</style>\n",
       "<table border=\"1\" class=\"dataframe\">\n",
       "  <thead>\n",
       "    <tr style=\"text-align: right;\">\n",
       "      <th></th>\n",
       "      <th>prediction</th>\n",
       "      <th>score</th>\n",
       "    </tr>\n",
       "  </thead>\n",
       "  <tbody>\n",
       "    <tr>\n",
       "      <th>0</th>\n",
       "      <td>0</td>\n",
       "      <td>-0.507601</td>\n",
       "    </tr>\n",
       "    <tr>\n",
       "      <th>1</th>\n",
       "      <td>1</td>\n",
       "      <td>0.009282</td>\n",
       "    </tr>\n",
       "    <tr>\n",
       "      <th>2</th>\n",
       "      <td>0</td>\n",
       "      <td>-0.507601</td>\n",
       "    </tr>\n",
       "    <tr>\n",
       "      <th>3</th>\n",
       "      <td>0</td>\n",
       "      <td>-0.507601</td>\n",
       "    </tr>\n",
       "    <tr>\n",
       "      <th>4</th>\n",
       "      <td>0</td>\n",
       "      <td>-0.563773</td>\n",
       "    </tr>\n",
       "    <tr>\n",
       "      <th>5</th>\n",
       "      <td>0</td>\n",
       "      <td>-0.563773</td>\n",
       "    </tr>\n",
       "    <tr>\n",
       "      <th>6</th>\n",
       "      <td>0</td>\n",
       "      <td>-0.563773</td>\n",
       "    </tr>\n",
       "    <tr>\n",
       "      <th>7</th>\n",
       "      <td>0</td>\n",
       "      <td>-0.563773</td>\n",
       "    </tr>\n",
       "    <tr>\n",
       "      <th>8</th>\n",
       "      <td>0</td>\n",
       "      <td>-0.507601</td>\n",
       "    </tr>\n",
       "    <tr>\n",
       "      <th>9</th>\n",
       "      <td>1</td>\n",
       "      <td>0.009282</td>\n",
       "    </tr>\n",
       "    <tr>\n",
       "      <th>10</th>\n",
       "      <td>0</td>\n",
       "      <td>-0.507601</td>\n",
       "    </tr>\n",
       "    <tr>\n",
       "      <th>11</th>\n",
       "      <td>0</td>\n",
       "      <td>-0.507601</td>\n",
       "    </tr>\n",
       "    <tr>\n",
       "      <th>12</th>\n",
       "      <td>0</td>\n",
       "      <td>-0.507601</td>\n",
       "    </tr>\n",
       "    <tr>\n",
       "      <th>13</th>\n",
       "      <td>1</td>\n",
       "      <td>0.009282</td>\n",
       "    </tr>\n",
       "    <tr>\n",
       "      <th>14</th>\n",
       "      <td>0</td>\n",
       "      <td>-0.563773</td>\n",
       "    </tr>\n",
       "    <tr>\n",
       "      <th>15</th>\n",
       "      <td>1</td>\n",
       "      <td>0.009282</td>\n",
       "    </tr>\n",
       "    <tr>\n",
       "      <th>16</th>\n",
       "      <td>1</td>\n",
       "      <td>0.009282</td>\n",
       "    </tr>\n",
       "    <tr>\n",
       "      <th>17</th>\n",
       "      <td>0</td>\n",
       "      <td>-0.507601</td>\n",
       "    </tr>\n",
       "    <tr>\n",
       "      <th>18</th>\n",
       "      <td>1</td>\n",
       "      <td>0.009282</td>\n",
       "    </tr>\n",
       "    <tr>\n",
       "      <th>19</th>\n",
       "      <td>0</td>\n",
       "      <td>-0.563773</td>\n",
       "    </tr>\n",
       "    <tr>\n",
       "      <th>20</th>\n",
       "      <td>0</td>\n",
       "      <td>-0.563773</td>\n",
       "    </tr>\n",
       "    <tr>\n",
       "      <th>21</th>\n",
       "      <td>1</td>\n",
       "      <td>0.009282</td>\n",
       "    </tr>\n",
       "    <tr>\n",
       "      <th>22</th>\n",
       "      <td>0</td>\n",
       "      <td>-0.563773</td>\n",
       "    </tr>\n",
       "    <tr>\n",
       "      <th>23</th>\n",
       "      <td>0</td>\n",
       "      <td>-0.563773</td>\n",
       "    </tr>\n",
       "    <tr>\n",
       "      <th>24</th>\n",
       "      <td>0</td>\n",
       "      <td>-0.507601</td>\n",
       "    </tr>\n",
       "    <tr>\n",
       "      <th>25</th>\n",
       "      <td>0</td>\n",
       "      <td>-0.563773</td>\n",
       "    </tr>\n",
       "    <tr>\n",
       "      <th>26</th>\n",
       "      <td>1</td>\n",
       "      <td>0.009282</td>\n",
       "    </tr>\n",
       "    <tr>\n",
       "      <th>27</th>\n",
       "      <td>1</td>\n",
       "      <td>0.009282</td>\n",
       "    </tr>\n",
       "    <tr>\n",
       "      <th>28</th>\n",
       "      <td>0</td>\n",
       "      <td>-0.507601</td>\n",
       "    </tr>\n",
       "    <tr>\n",
       "      <th>29</th>\n",
       "      <td>1</td>\n",
       "      <td>0.009282</td>\n",
       "    </tr>\n",
       "  </tbody>\n",
       "</table>\n",
       "</div>"
      ],
      "text/plain": [
       "    prediction     score\n",
       "0            0 -0.507601\n",
       "1            1  0.009282\n",
       "2            0 -0.507601\n",
       "3            0 -0.507601\n",
       "4            0 -0.563773\n",
       "5            0 -0.563773\n",
       "6            0 -0.563773\n",
       "7            0 -0.563773\n",
       "8            0 -0.507601\n",
       "9            1  0.009282\n",
       "10           0 -0.507601\n",
       "11           0 -0.507601\n",
       "12           0 -0.507601\n",
       "13           1  0.009282\n",
       "14           0 -0.563773\n",
       "15           1  0.009282\n",
       "16           1  0.009282\n",
       "17           0 -0.507601\n",
       "18           1  0.009282\n",
       "19           0 -0.563773\n",
       "20           0 -0.563773\n",
       "21           1  0.009282\n",
       "22           0 -0.563773\n",
       "23           0 -0.563773\n",
       "24           0 -0.507601\n",
       "25           0 -0.563773\n",
       "26           1  0.009282\n",
       "27           1  0.009282\n",
       "28           0 -0.507601\n",
       "29           1  0.009282"
      ]
     },
     "execution_count": 18,
     "metadata": {},
     "output_type": "execute_result"
    }
   ],
   "source": [
    "score_list = []\n",
    "for i in range(0, X_test.shape[0]): #\n",
    "    s1 = df_tree[df_tree[\"ID\"] == \"0-\" + str(int(applied[i, 0]))]  # 첫번째 트리의 해당 노드에서 score 가져오기\n",
    "    s2 = df_tree[df_tree[\"ID\"] == \"1-\" + str(int(applied[i, 1]))]  # 두번째 트리의 해당 노드에서 score 가져오기\n",
    "    score_list.append(s1.iloc[0][\"Gain\"] + s2.iloc[0][\"Gain\"])   # 각 트리의 leaf 노드 가중치들의 합\n",
    "\n",
    "pd.DataFrame({\"prediction\": xg_clf.predict(X_test), \"score\": score_list})"
   ]
  },
  {
   "cell_type": "markdown",
   "id": "be68e8ff-0440-4764-9279-474f373f9701",
   "metadata": {},
   "source": [
    "이번에는 Weak learner들의 max depth를 2로 늘리고, boosting 횟수를 3으로 늘렸다.\n",
    "\n",
    "부스팅 단계에서 트리가 완전히 2번 분할되기도 하고 그렇지 않기도 함을 관찰할 수 있다."
   ]
  },
  {
   "cell_type": "code",
   "execution_count": 19,
   "id": "76b09386-f689-4e7d-817c-ab5c834330d2",
   "metadata": {
    "tags": []
   },
   "outputs": [
    {
     "name": "stdout",
     "output_type": "stream",
     "text": [
      "Tree 0:\n",
      "0:[petal length (cm)<2.5999999] yes=1,no=2,missing=1\n",
      "\t1:leaf=-0.545454562\n",
      "\t2:[petal width (cm)<1.6500001] yes=3,no=4,missing=3\n",
      "\t\t3:leaf=0.443478286\n",
      "\t\t4:leaf=-0.54285717\n",
      "\n",
      "\n",
      "Tree 1:\n",
      "0:[petal length (cm)<2.5999999] yes=1,no=2,missing=1\n",
      "\t1:leaf=-0.427828759\n",
      "\t2:[petal length (cm)<4.85000038] yes=3,no=4,missing=3\n",
      "\t\t3:leaf=0.396398216\n",
      "\t\t4:leaf=-0.394053072\n",
      "\n",
      "\n",
      "Tree 2:\n",
      "0:[petal width (cm)<1.6500001] yes=1,no=2,missing=1\n",
      "\t1:[petal length (cm)<2.5999999] yes=3,no=4,missing=3\n",
      "\t\t3:leaf=-0.367224514\n",
      "\t\t4:leaf=0.295478225\n",
      "\t2:leaf=-0.378008872\n",
      "\n",
      "\n"
     ]
    }
   ],
   "source": [
    "xg_clf2 = XGBClassifier(n_estimators=3, max_depth=2)\n",
    "xg_clf2.fit(X_train, y_train)\n",
    "booster2 = xg_clf2.get_booster()\n",
    "booster2.feature_names = list(data.feature_names)\n",
    "\n",
    "tree_list2 = booster2.get_dump()\n",
    "for i, tree in enumerate(tree_list2):\n",
    "    print(f\"Tree {i}:\\n{tree}\\n\")"
   ]
  },
  {
   "cell_type": "code",
   "execution_count": 20,
   "id": "43d4473b-96f5-41d7-938b-0e7695834b77",
   "metadata": {
    "tags": []
   },
   "outputs": [
    {
     "data": {
      "text/html": [
       "<div>\n",
       "<style scoped>\n",
       "    .dataframe tbody tr th:only-of-type {\n",
       "        vertical-align: middle;\n",
       "    }\n",
       "\n",
       "    .dataframe tbody tr th {\n",
       "        vertical-align: top;\n",
       "    }\n",
       "\n",
       "    .dataframe thead th {\n",
       "        text-align: right;\n",
       "    }\n",
       "</style>\n",
       "<table border=\"1\" class=\"dataframe\">\n",
       "  <thead>\n",
       "    <tr style=\"text-align: right;\">\n",
       "      <th></th>\n",
       "      <th>Tree</th>\n",
       "      <th>Node</th>\n",
       "      <th>ID</th>\n",
       "      <th>Feature</th>\n",
       "      <th>Split</th>\n",
       "      <th>Yes</th>\n",
       "      <th>No</th>\n",
       "      <th>Missing</th>\n",
       "      <th>Gain</th>\n",
       "      <th>Cover</th>\n",
       "      <th>Category</th>\n",
       "    </tr>\n",
       "  </thead>\n",
       "  <tbody>\n",
       "    <tr>\n",
       "      <th>0</th>\n",
       "      <td>0</td>\n",
       "      <td>0</td>\n",
       "      <td>0-0</td>\n",
       "      <td>petal length (cm)</td>\n",
       "      <td>2.60</td>\n",
       "      <td>0-1</td>\n",
       "      <td>0-2</td>\n",
       "      <td>0-1</td>\n",
       "      <td>20.941208</td>\n",
       "      <td>30.000000</td>\n",
       "      <td>NaN</td>\n",
       "    </tr>\n",
       "    <tr>\n",
       "      <th>1</th>\n",
       "      <td>0</td>\n",
       "      <td>1</td>\n",
       "      <td>0-1</td>\n",
       "      <td>Leaf</td>\n",
       "      <td>NaN</td>\n",
       "      <td>NaN</td>\n",
       "      <td>NaN</td>\n",
       "      <td>NaN</td>\n",
       "      <td>-0.545455</td>\n",
       "      <td>10.000000</td>\n",
       "      <td>NaN</td>\n",
       "    </tr>\n",
       "    <tr>\n",
       "      <th>2</th>\n",
       "      <td>0</td>\n",
       "      <td>2</td>\n",
       "      <td>0-2</td>\n",
       "      <td>petal width (cm)</td>\n",
       "      <td>1.65</td>\n",
       "      <td>0-3</td>\n",
       "      <td>0-4</td>\n",
       "      <td>0-3</td>\n",
       "      <td>59.320908</td>\n",
       "      <td>20.000000</td>\n",
       "      <td>NaN</td>\n",
       "    </tr>\n",
       "    <tr>\n",
       "      <th>3</th>\n",
       "      <td>0</td>\n",
       "      <td>3</td>\n",
       "      <td>0-3</td>\n",
       "      <td>Leaf</td>\n",
       "      <td>NaN</td>\n",
       "      <td>NaN</td>\n",
       "      <td>NaN</td>\n",
       "      <td>NaN</td>\n",
       "      <td>0.443478</td>\n",
       "      <td>10.500000</td>\n",
       "      <td>NaN</td>\n",
       "    </tr>\n",
       "    <tr>\n",
       "      <th>4</th>\n",
       "      <td>0</td>\n",
       "      <td>4</td>\n",
       "      <td>0-4</td>\n",
       "      <td>Leaf</td>\n",
       "      <td>NaN</td>\n",
       "      <td>NaN</td>\n",
       "      <td>NaN</td>\n",
       "      <td>NaN</td>\n",
       "      <td>-0.542857</td>\n",
       "      <td>9.500000</td>\n",
       "      <td>NaN</td>\n",
       "    </tr>\n",
       "    <tr>\n",
       "      <th>5</th>\n",
       "      <td>1</td>\n",
       "      <td>0</td>\n",
       "      <td>1-0</td>\n",
       "      <td>petal length (cm)</td>\n",
       "      <td>2.60</td>\n",
       "      <td>1-1</td>\n",
       "      <td>1-2</td>\n",
       "      <td>1-1</td>\n",
       "      <td>12.013302</td>\n",
       "      <td>28.124876</td>\n",
       "      <td>NaN</td>\n",
       "    </tr>\n",
       "    <tr>\n",
       "      <th>6</th>\n",
       "      <td>1</td>\n",
       "      <td>1</td>\n",
       "      <td>1-1</td>\n",
       "      <td>Leaf</td>\n",
       "      <td>NaN</td>\n",
       "      <td>NaN</td>\n",
       "      <td>NaN</td>\n",
       "      <td>NaN</td>\n",
       "      <td>-0.427829</td>\n",
       "      <td>9.291584</td>\n",
       "      <td>NaN</td>\n",
       "    </tr>\n",
       "    <tr>\n",
       "      <th>7</th>\n",
       "      <td>1</td>\n",
       "      <td>2</td>\n",
       "      <td>1-2</td>\n",
       "      <td>petal length (cm)</td>\n",
       "      <td>4.85</td>\n",
       "      <td>1-3</td>\n",
       "      <td>1-4</td>\n",
       "      <td>1-3</td>\n",
       "      <td>36.024929</td>\n",
       "      <td>18.833292</td>\n",
       "      <td>NaN</td>\n",
       "    </tr>\n",
       "    <tr>\n",
       "      <th>8</th>\n",
       "      <td>1</td>\n",
       "      <td>3</td>\n",
       "      <td>1-3</td>\n",
       "      <td>Leaf</td>\n",
       "      <td>NaN</td>\n",
       "      <td>NaN</td>\n",
       "      <td>NaN</td>\n",
       "      <td>NaN</td>\n",
       "      <td>0.396398</td>\n",
       "      <td>8.798397</td>\n",
       "      <td>NaN</td>\n",
       "    </tr>\n",
       "    <tr>\n",
       "      <th>9</th>\n",
       "      <td>1</td>\n",
       "      <td>4</td>\n",
       "      <td>1-4</td>\n",
       "      <td>Leaf</td>\n",
       "      <td>NaN</td>\n",
       "      <td>NaN</td>\n",
       "      <td>NaN</td>\n",
       "      <td>NaN</td>\n",
       "      <td>-0.394053</td>\n",
       "      <td>10.034896</td>\n",
       "      <td>NaN</td>\n",
       "    </tr>\n",
       "    <tr>\n",
       "      <th>10</th>\n",
       "      <td>2</td>\n",
       "      <td>0</td>\n",
       "      <td>2-0</td>\n",
       "      <td>petal width (cm)</td>\n",
       "      <td>1.65</td>\n",
       "      <td>2-1</td>\n",
       "      <td>2-2</td>\n",
       "      <td>2-1</td>\n",
       "      <td>8.366964</td>\n",
       "      <td>24.860750</td>\n",
       "      <td>NaN</td>\n",
       "    </tr>\n",
       "    <tr>\n",
       "      <th>11</th>\n",
       "      <td>2</td>\n",
       "      <td>1</td>\n",
       "      <td>2-1</td>\n",
       "      <td>petal length (cm)</td>\n",
       "      <td>2.60</td>\n",
       "      <td>2-3</td>\n",
       "      <td>2-4</td>\n",
       "      <td>2-3</td>\n",
       "      <td>23.189529</td>\n",
       "      <td>17.081751</td>\n",
       "      <td>NaN</td>\n",
       "    </tr>\n",
       "    <tr>\n",
       "      <th>12</th>\n",
       "      <td>2</td>\n",
       "      <td>2</td>\n",
       "      <td>2-2</td>\n",
       "      <td>Leaf</td>\n",
       "      <td>NaN</td>\n",
       "      <td>NaN</td>\n",
       "      <td>NaN</td>\n",
       "      <td>NaN</td>\n",
       "      <td>-0.378009</td>\n",
       "      <td>7.778998</td>\n",
       "      <td>NaN</td>\n",
       "    </tr>\n",
       "    <tr>\n",
       "      <th>13</th>\n",
       "      <td>2</td>\n",
       "      <td>3</td>\n",
       "      <td>2-3</td>\n",
       "      <td>Leaf</td>\n",
       "      <td>NaN</td>\n",
       "      <td>NaN</td>\n",
       "      <td>NaN</td>\n",
       "      <td>NaN</td>\n",
       "      <td>-0.367225</td>\n",
       "      <td>7.961054</td>\n",
       "      <td>NaN</td>\n",
       "    </tr>\n",
       "    <tr>\n",
       "      <th>14</th>\n",
       "      <td>2</td>\n",
       "      <td>4</td>\n",
       "      <td>2-4</td>\n",
       "      <td>Leaf</td>\n",
       "      <td>NaN</td>\n",
       "      <td>NaN</td>\n",
       "      <td>NaN</td>\n",
       "      <td>NaN</td>\n",
       "      <td>0.295478</td>\n",
       "      <td>9.120698</td>\n",
       "      <td>NaN</td>\n",
       "    </tr>\n",
       "  </tbody>\n",
       "</table>\n",
       "</div>"
      ],
      "text/plain": [
       "    Tree  Node   ID            Feature  Split  Yes   No Missing       Gain   \n",
       "0      0     0  0-0  petal length (cm)   2.60  0-1  0-2     0-1  20.941208  \\\n",
       "1      0     1  0-1               Leaf    NaN  NaN  NaN     NaN  -0.545455   \n",
       "2      0     2  0-2   petal width (cm)   1.65  0-3  0-4     0-3  59.320908   \n",
       "3      0     3  0-3               Leaf    NaN  NaN  NaN     NaN   0.443478   \n",
       "4      0     4  0-4               Leaf    NaN  NaN  NaN     NaN  -0.542857   \n",
       "5      1     0  1-0  petal length (cm)   2.60  1-1  1-2     1-1  12.013302   \n",
       "6      1     1  1-1               Leaf    NaN  NaN  NaN     NaN  -0.427829   \n",
       "7      1     2  1-2  petal length (cm)   4.85  1-3  1-4     1-3  36.024929   \n",
       "8      1     3  1-3               Leaf    NaN  NaN  NaN     NaN   0.396398   \n",
       "9      1     4  1-4               Leaf    NaN  NaN  NaN     NaN  -0.394053   \n",
       "10     2     0  2-0   petal width (cm)   1.65  2-1  2-2     2-1   8.366964   \n",
       "11     2     1  2-1  petal length (cm)   2.60  2-3  2-4     2-3  23.189529   \n",
       "12     2     2  2-2               Leaf    NaN  NaN  NaN     NaN  -0.378009   \n",
       "13     2     3  2-3               Leaf    NaN  NaN  NaN     NaN  -0.367225   \n",
       "14     2     4  2-4               Leaf    NaN  NaN  NaN     NaN   0.295478   \n",
       "\n",
       "        Cover  Category  \n",
       "0   30.000000       NaN  \n",
       "1   10.000000       NaN  \n",
       "2   20.000000       NaN  \n",
       "3   10.500000       NaN  \n",
       "4    9.500000       NaN  \n",
       "5   28.124876       NaN  \n",
       "6    9.291584       NaN  \n",
       "7   18.833292       NaN  \n",
       "8    8.798397       NaN  \n",
       "9   10.034896       NaN  \n",
       "10  24.860750       NaN  \n",
       "11  17.081751       NaN  \n",
       "12   7.778998       NaN  \n",
       "13   7.961054       NaN  \n",
       "14   9.120698       NaN  "
      ]
     },
     "execution_count": 20,
     "metadata": {},
     "output_type": "execute_result"
    }
   ],
   "source": [
    "df_tree2 = booster2.trees_to_dataframe()\n",
    "df_tree2"
   ]
  },
  {
   "cell_type": "code",
   "execution_count": 21,
   "id": "22dcb3f0-226d-4b90-90bc-f2c91d8c0964",
   "metadata": {
    "tags": []
   },
   "outputs": [
    {
     "data": {
      "text/plain": [
       "array([[1., 1., 3.],\n",
       "       [3., 3., 4.],\n",
       "       [1., 1., 3.],\n",
       "       [1., 1., 3.],\n",
       "       [4., 4., 2.],\n",
       "       [4., 4., 2.],\n",
       "       [4., 4., 2.],\n",
       "       [4., 4., 2.],\n",
       "       [1., 1., 3.],\n",
       "       [3., 3., 4.],\n",
       "       [1., 1., 3.],\n",
       "       [1., 1., 3.],\n",
       "       [1., 1., 3.],\n",
       "       [3., 3., 4.],\n",
       "       [4., 4., 2.],\n",
       "       [3., 3., 4.],\n",
       "       [3., 3., 4.],\n",
       "       [1., 1., 3.],\n",
       "       [3., 3., 4.],\n",
       "       [4., 4., 2.],\n",
       "       [4., 4., 2.],\n",
       "       [3., 3., 4.],\n",
       "       [4., 4., 2.],\n",
       "       [4., 3., 2.],\n",
       "       [1., 1., 3.],\n",
       "       [4., 3., 2.],\n",
       "       [3., 3., 4.],\n",
       "       [3., 3., 4.],\n",
       "       [1., 1., 3.],\n",
       "       [3., 3., 4.]], dtype=float32)"
      ]
     },
     "execution_count": 21,
     "metadata": {},
     "output_type": "execute_result"
    }
   ],
   "source": [
    "import pandas as pd\n",
    "applied2 = xg_clf2.apply(df_X_test)\n",
    "applied2"
   ]
  },
  {
   "cell_type": "markdown",
   "id": "7a27f3c7",
   "metadata": {},
   "source": [
    "이번에는 트리가 3개이기 때문에, `for`문 내에서 스코어를 3번 추출하여 계산한다. \n",
    "\n",
    "어떤 테스트 데이터에 대한 총 score는 각 트리의 leaf 노드에서 추출한 score들의 합이다.\n",
    "\n",
    "마찬가지로 score에 따라 최종 prediction이 어떻게 이루어졌는지 관찰하자."
   ]
  },
  {
   "cell_type": "markdown",
   "id": "fd6959a6",
   "metadata": {},
   "source": [
    "이전에 공부한 것처럼 score값들은 sigmoid 함수를 이용하여 확률값으로 변환할 수 있다.\n",
    "\n",
    "이것은 [`predict_prob`](https://xgboost.readthedocs.io/en/stable/python/python_api.html#xgboost.XGBClassifier.predict_proba)에서 계산한 값과 같다."
   ]
  },
  {
   "cell_type": "code",
   "execution_count": 22,
   "id": "07aec593",
   "metadata": {},
   "outputs": [],
   "source": [
    "import numpy as np"
   ]
  },
  {
   "cell_type": "code",
   "execution_count": 23,
   "id": "7b8df3a1-398b-4476-8a8d-5e7c8cfc850f",
   "metadata": {
    "tags": []
   },
   "outputs": [
    {
     "data": {
      "text/html": [
       "<div>\n",
       "<style scoped>\n",
       "    .dataframe tbody tr th:only-of-type {\n",
       "        vertical-align: middle;\n",
       "    }\n",
       "\n",
       "    .dataframe tbody tr th {\n",
       "        vertical-align: top;\n",
       "    }\n",
       "\n",
       "    .dataframe thead th {\n",
       "        text-align: right;\n",
       "    }\n",
       "</style>\n",
       "<table border=\"1\" class=\"dataframe\">\n",
       "  <thead>\n",
       "    <tr style=\"text-align: right;\">\n",
       "      <th></th>\n",
       "      <th>prediction</th>\n",
       "      <th>score</th>\n",
       "      <th>prob_by_score</th>\n",
       "      <th>P(Y=1)</th>\n",
       "    </tr>\n",
       "  </thead>\n",
       "  <tbody>\n",
       "    <tr>\n",
       "      <th>0</th>\n",
       "      <td>0</td>\n",
       "      <td>-1.340508</td>\n",
       "      <td>0.207427</td>\n",
       "      <td>0.207427</td>\n",
       "    </tr>\n",
       "    <tr>\n",
       "      <th>1</th>\n",
       "      <td>1</td>\n",
       "      <td>1.135355</td>\n",
       "      <td>0.756826</td>\n",
       "      <td>0.756826</td>\n",
       "    </tr>\n",
       "    <tr>\n",
       "      <th>2</th>\n",
       "      <td>0</td>\n",
       "      <td>-1.340508</td>\n",
       "      <td>0.207427</td>\n",
       "      <td>0.207427</td>\n",
       "    </tr>\n",
       "    <tr>\n",
       "      <th>3</th>\n",
       "      <td>0</td>\n",
       "      <td>-1.340508</td>\n",
       "      <td>0.207427</td>\n",
       "      <td>0.207427</td>\n",
       "    </tr>\n",
       "    <tr>\n",
       "      <th>4</th>\n",
       "      <td>0</td>\n",
       "      <td>-1.314919</td>\n",
       "      <td>0.211665</td>\n",
       "      <td>0.211665</td>\n",
       "    </tr>\n",
       "    <tr>\n",
       "      <th>5</th>\n",
       "      <td>0</td>\n",
       "      <td>-1.314919</td>\n",
       "      <td>0.211665</td>\n",
       "      <td>0.211665</td>\n",
       "    </tr>\n",
       "    <tr>\n",
       "      <th>6</th>\n",
       "      <td>0</td>\n",
       "      <td>-1.314919</td>\n",
       "      <td>0.211665</td>\n",
       "      <td>0.211665</td>\n",
       "    </tr>\n",
       "    <tr>\n",
       "      <th>7</th>\n",
       "      <td>0</td>\n",
       "      <td>-1.314919</td>\n",
       "      <td>0.211665</td>\n",
       "      <td>0.211665</td>\n",
       "    </tr>\n",
       "    <tr>\n",
       "      <th>8</th>\n",
       "      <td>0</td>\n",
       "      <td>-1.340508</td>\n",
       "      <td>0.207427</td>\n",
       "      <td>0.207427</td>\n",
       "    </tr>\n",
       "    <tr>\n",
       "      <th>9</th>\n",
       "      <td>1</td>\n",
       "      <td>1.135355</td>\n",
       "      <td>0.756826</td>\n",
       "      <td>0.756826</td>\n",
       "    </tr>\n",
       "    <tr>\n",
       "      <th>10</th>\n",
       "      <td>0</td>\n",
       "      <td>-1.340508</td>\n",
       "      <td>0.207427</td>\n",
       "      <td>0.207427</td>\n",
       "    </tr>\n",
       "    <tr>\n",
       "      <th>11</th>\n",
       "      <td>0</td>\n",
       "      <td>-1.340508</td>\n",
       "      <td>0.207427</td>\n",
       "      <td>0.207427</td>\n",
       "    </tr>\n",
       "    <tr>\n",
       "      <th>12</th>\n",
       "      <td>0</td>\n",
       "      <td>-1.340508</td>\n",
       "      <td>0.207427</td>\n",
       "      <td>0.207427</td>\n",
       "    </tr>\n",
       "    <tr>\n",
       "      <th>13</th>\n",
       "      <td>1</td>\n",
       "      <td>1.135355</td>\n",
       "      <td>0.756826</td>\n",
       "      <td>0.756826</td>\n",
       "    </tr>\n",
       "    <tr>\n",
       "      <th>14</th>\n",
       "      <td>0</td>\n",
       "      <td>-1.314919</td>\n",
       "      <td>0.211665</td>\n",
       "      <td>0.211665</td>\n",
       "    </tr>\n",
       "    <tr>\n",
       "      <th>15</th>\n",
       "      <td>1</td>\n",
       "      <td>1.135355</td>\n",
       "      <td>0.756826</td>\n",
       "      <td>0.756826</td>\n",
       "    </tr>\n",
       "    <tr>\n",
       "      <th>16</th>\n",
       "      <td>1</td>\n",
       "      <td>1.135355</td>\n",
       "      <td>0.756826</td>\n",
       "      <td>0.756826</td>\n",
       "    </tr>\n",
       "    <tr>\n",
       "      <th>17</th>\n",
       "      <td>0</td>\n",
       "      <td>-1.340508</td>\n",
       "      <td>0.207427</td>\n",
       "      <td>0.207427</td>\n",
       "    </tr>\n",
       "    <tr>\n",
       "      <th>18</th>\n",
       "      <td>1</td>\n",
       "      <td>1.135355</td>\n",
       "      <td>0.756826</td>\n",
       "      <td>0.756826</td>\n",
       "    </tr>\n",
       "    <tr>\n",
       "      <th>19</th>\n",
       "      <td>0</td>\n",
       "      <td>-1.314919</td>\n",
       "      <td>0.211665</td>\n",
       "      <td>0.211665</td>\n",
       "    </tr>\n",
       "    <tr>\n",
       "      <th>20</th>\n",
       "      <td>0</td>\n",
       "      <td>-1.314919</td>\n",
       "      <td>0.211665</td>\n",
       "      <td>0.211665</td>\n",
       "    </tr>\n",
       "    <tr>\n",
       "      <th>21</th>\n",
       "      <td>1</td>\n",
       "      <td>1.135355</td>\n",
       "      <td>0.756826</td>\n",
       "      <td>0.756826</td>\n",
       "    </tr>\n",
       "    <tr>\n",
       "      <th>22</th>\n",
       "      <td>0</td>\n",
       "      <td>-1.314919</td>\n",
       "      <td>0.211665</td>\n",
       "      <td>0.211665</td>\n",
       "    </tr>\n",
       "    <tr>\n",
       "      <th>23</th>\n",
       "      <td>0</td>\n",
       "      <td>-0.524468</td>\n",
       "      <td>0.371808</td>\n",
       "      <td>0.371808</td>\n",
       "    </tr>\n",
       "    <tr>\n",
       "      <th>24</th>\n",
       "      <td>0</td>\n",
       "      <td>-1.340508</td>\n",
       "      <td>0.207427</td>\n",
       "      <td>0.207427</td>\n",
       "    </tr>\n",
       "    <tr>\n",
       "      <th>25</th>\n",
       "      <td>0</td>\n",
       "      <td>-0.524468</td>\n",
       "      <td>0.371808</td>\n",
       "      <td>0.371808</td>\n",
       "    </tr>\n",
       "    <tr>\n",
       "      <th>26</th>\n",
       "      <td>1</td>\n",
       "      <td>1.135355</td>\n",
       "      <td>0.756826</td>\n",
       "      <td>0.756826</td>\n",
       "    </tr>\n",
       "    <tr>\n",
       "      <th>27</th>\n",
       "      <td>1</td>\n",
       "      <td>1.135355</td>\n",
       "      <td>0.756826</td>\n",
       "      <td>0.756826</td>\n",
       "    </tr>\n",
       "    <tr>\n",
       "      <th>28</th>\n",
       "      <td>0</td>\n",
       "      <td>-1.340508</td>\n",
       "      <td>0.207427</td>\n",
       "      <td>0.207427</td>\n",
       "    </tr>\n",
       "    <tr>\n",
       "      <th>29</th>\n",
       "      <td>1</td>\n",
       "      <td>1.135355</td>\n",
       "      <td>0.756826</td>\n",
       "      <td>0.756826</td>\n",
       "    </tr>\n",
       "  </tbody>\n",
       "</table>\n",
       "</div>"
      ],
      "text/plain": [
       "    prediction     score  prob_by_score    P(Y=1)\n",
       "0            0 -1.340508       0.207427  0.207427\n",
       "1            1  1.135355       0.756826  0.756826\n",
       "2            0 -1.340508       0.207427  0.207427\n",
       "3            0 -1.340508       0.207427  0.207427\n",
       "4            0 -1.314919       0.211665  0.211665\n",
       "5            0 -1.314919       0.211665  0.211665\n",
       "6            0 -1.314919       0.211665  0.211665\n",
       "7            0 -1.314919       0.211665  0.211665\n",
       "8            0 -1.340508       0.207427  0.207427\n",
       "9            1  1.135355       0.756826  0.756826\n",
       "10           0 -1.340508       0.207427  0.207427\n",
       "11           0 -1.340508       0.207427  0.207427\n",
       "12           0 -1.340508       0.207427  0.207427\n",
       "13           1  1.135355       0.756826  0.756826\n",
       "14           0 -1.314919       0.211665  0.211665\n",
       "15           1  1.135355       0.756826  0.756826\n",
       "16           1  1.135355       0.756826  0.756826\n",
       "17           0 -1.340508       0.207427  0.207427\n",
       "18           1  1.135355       0.756826  0.756826\n",
       "19           0 -1.314919       0.211665  0.211665\n",
       "20           0 -1.314919       0.211665  0.211665\n",
       "21           1  1.135355       0.756826  0.756826\n",
       "22           0 -1.314919       0.211665  0.211665\n",
       "23           0 -0.524468       0.371808  0.371808\n",
       "24           0 -1.340508       0.207427  0.207427\n",
       "25           0 -0.524468       0.371808  0.371808\n",
       "26           1  1.135355       0.756826  0.756826\n",
       "27           1  1.135355       0.756826  0.756826\n",
       "28           0 -1.340508       0.207427  0.207427\n",
       "29           1  1.135355       0.756826  0.756826"
      ]
     },
     "execution_count": 23,
     "metadata": {},
     "output_type": "execute_result"
    }
   ],
   "source": [
    "score_list2 = []\n",
    "for i in range(0, X_test.shape[0]):\n",
    "    total_score = 0\n",
    "    for j in range(xg_clf2.n_estimators):\n",
    "        selected_raw = df_tree2[df_tree2[\"ID\"] == f\"{j}-\" + str(int(applied2[i, j]))]\n",
    "        total_score += selected_raw.iloc[0][\"Gain\"]\n",
    "    \n",
    "    score_list2.append(total_score)\n",
    "\n",
    "prob = 1/(1 + np.exp(-np.array(score_list2)))\n",
    "pd.DataFrame({\"prediction\": xg_clf2.predict(X_test), \"score\": score_list2, \"prob_by_score\" : prob, \"P(Y=1)\" : xg_clf2.predict_proba(X_test)[:,1].reshape(-1)})"
   ]
  },
  {
   "cell_type": "markdown",
   "id": "cfcecbdd",
   "metadata": {},
   "source": [
    "마지막으로 하이퍼파라미터들을 따로 셋팅하지 않고, xgboost를 진행해 본다.\n",
    "\n",
    "xgboost의 파라미터 기본 셋팅은 다음 링크를 참조한다.\n",
    "\n",
    "https://xgboost.readthedocs.io/en/stable/parameter.html\n",
    "\n",
    "예를 들어, `max_depth`의 기본값은 6이다."
   ]
  },
  {
   "cell_type": "code",
   "execution_count": 24,
   "id": "9b4fd065",
   "metadata": {
    "scrolled": true,
    "tags": []
   },
   "outputs": [
    {
     "data": {
      "text/html": [
       "<style>#sk-container-id-3 {color: black;background-color: white;}#sk-container-id-3 pre{padding: 0;}#sk-container-id-3 div.sk-toggleable {background-color: white;}#sk-container-id-3 label.sk-toggleable__label {cursor: pointer;display: block;width: 100%;margin-bottom: 0;padding: 0.3em;box-sizing: border-box;text-align: center;}#sk-container-id-3 label.sk-toggleable__label-arrow:before {content: \"▸\";float: left;margin-right: 0.25em;color: #696969;}#sk-container-id-3 label.sk-toggleable__label-arrow:hover:before {color: black;}#sk-container-id-3 div.sk-estimator:hover label.sk-toggleable__label-arrow:before {color: black;}#sk-container-id-3 div.sk-toggleable__content {max-height: 0;max-width: 0;overflow: hidden;text-align: left;background-color: #f0f8ff;}#sk-container-id-3 div.sk-toggleable__content pre {margin: 0.2em;color: black;border-radius: 0.25em;background-color: #f0f8ff;}#sk-container-id-3 input.sk-toggleable__control:checked~div.sk-toggleable__content {max-height: 200px;max-width: 100%;overflow: auto;}#sk-container-id-3 input.sk-toggleable__control:checked~label.sk-toggleable__label-arrow:before {content: \"▾\";}#sk-container-id-3 div.sk-estimator input.sk-toggleable__control:checked~label.sk-toggleable__label {background-color: #d4ebff;}#sk-container-id-3 div.sk-label input.sk-toggleable__control:checked~label.sk-toggleable__label {background-color: #d4ebff;}#sk-container-id-3 input.sk-hidden--visually {border: 0;clip: rect(1px 1px 1px 1px);clip: rect(1px, 1px, 1px, 1px);height: 1px;margin: -1px;overflow: hidden;padding: 0;position: absolute;width: 1px;}#sk-container-id-3 div.sk-estimator {font-family: monospace;background-color: #f0f8ff;border: 1px dotted black;border-radius: 0.25em;box-sizing: border-box;margin-bottom: 0.5em;}#sk-container-id-3 div.sk-estimator:hover {background-color: #d4ebff;}#sk-container-id-3 div.sk-parallel-item::after {content: \"\";width: 100%;border-bottom: 1px solid gray;flex-grow: 1;}#sk-container-id-3 div.sk-label:hover label.sk-toggleable__label {background-color: #d4ebff;}#sk-container-id-3 div.sk-serial::before {content: \"\";position: absolute;border-left: 1px solid gray;box-sizing: border-box;top: 0;bottom: 0;left: 50%;z-index: 0;}#sk-container-id-3 div.sk-serial {display: flex;flex-direction: column;align-items: center;background-color: white;padding-right: 0.2em;padding-left: 0.2em;position: relative;}#sk-container-id-3 div.sk-item {position: relative;z-index: 1;}#sk-container-id-3 div.sk-parallel {display: flex;align-items: stretch;justify-content: center;background-color: white;position: relative;}#sk-container-id-3 div.sk-item::before, #sk-container-id-3 div.sk-parallel-item::before {content: \"\";position: absolute;border-left: 1px solid gray;box-sizing: border-box;top: 0;bottom: 0;left: 50%;z-index: -1;}#sk-container-id-3 div.sk-parallel-item {display: flex;flex-direction: column;z-index: 1;position: relative;background-color: white;}#sk-container-id-3 div.sk-parallel-item:first-child::after {align-self: flex-end;width: 50%;}#sk-container-id-3 div.sk-parallel-item:last-child::after {align-self: flex-start;width: 50%;}#sk-container-id-3 div.sk-parallel-item:only-child::after {width: 0;}#sk-container-id-3 div.sk-dashed-wrapped {border: 1px dashed gray;margin: 0 0.4em 0.5em 0.4em;box-sizing: border-box;padding-bottom: 0.4em;background-color: white;}#sk-container-id-3 div.sk-label label {font-family: monospace;font-weight: bold;display: inline-block;line-height: 1.2em;}#sk-container-id-3 div.sk-label-container {text-align: center;}#sk-container-id-3 div.sk-container {/* jupyter's `normalize.less` sets `[hidden] { display: none; }` but bootstrap.min.css set `[hidden] { display: none !important; }` so we also need the `!important` here to be able to override the default hidden behavior on the sphinx rendered scikit-learn.org. See: https://github.com/scikit-learn/scikit-learn/issues/21755 */display: inline-block !important;position: relative;}#sk-container-id-3 div.sk-text-repr-fallback {display: none;}</style><div id=\"sk-container-id-3\" class=\"sk-top-container\"><div class=\"sk-text-repr-fallback\"><pre>XGBClassifier(base_score=None, booster=None, callbacks=None,\n",
       "              colsample_bylevel=None, colsample_bynode=None,\n",
       "              colsample_bytree=None, early_stopping_rounds=None,\n",
       "              enable_categorical=False, eval_metric=None, feature_types=None,\n",
       "              gamma=None, gpu_id=None, grow_policy=None, importance_type=None,\n",
       "              interaction_constraints=None, learning_rate=None, max_bin=None,\n",
       "              max_cat_threshold=None, max_cat_to_onehot=None,\n",
       "              max_delta_step=None, max_depth=None, max_leaves=None,\n",
       "              min_child_weight=None, missing=nan, monotone_constraints=None,\n",
       "              n_estimators=100, n_jobs=None, num_parallel_tree=None,\n",
       "              predictor=None, random_state=None, ...)</pre><b>In a Jupyter environment, please rerun this cell to show the HTML representation or trust the notebook. <br />On GitHub, the HTML representation is unable to render, please try loading this page with nbviewer.org.</b></div><div class=\"sk-container\" hidden><div class=\"sk-item\"><div class=\"sk-estimator sk-toggleable\"><input class=\"sk-toggleable__control sk-hidden--visually\" id=\"sk-estimator-id-3\" type=\"checkbox\" checked><label for=\"sk-estimator-id-3\" class=\"sk-toggleable__label sk-toggleable__label-arrow\">XGBClassifier</label><div class=\"sk-toggleable__content\"><pre>XGBClassifier(base_score=None, booster=None, callbacks=None,\n",
       "              colsample_bylevel=None, colsample_bynode=None,\n",
       "              colsample_bytree=None, early_stopping_rounds=None,\n",
       "              enable_categorical=False, eval_metric=None, feature_types=None,\n",
       "              gamma=None, gpu_id=None, grow_policy=None, importance_type=None,\n",
       "              interaction_constraints=None, learning_rate=None, max_bin=None,\n",
       "              max_cat_threshold=None, max_cat_to_onehot=None,\n",
       "              max_delta_step=None, max_depth=None, max_leaves=None,\n",
       "              min_child_weight=None, missing=nan, monotone_constraints=None,\n",
       "              n_estimators=100, n_jobs=None, num_parallel_tree=None,\n",
       "              predictor=None, random_state=None, ...)</pre></div></div></div></div></div>"
      ],
      "text/plain": [
       "XGBClassifier(base_score=None, booster=None, callbacks=None,\n",
       "              colsample_bylevel=None, colsample_bynode=None,\n",
       "              colsample_bytree=None, early_stopping_rounds=None,\n",
       "              enable_categorical=False, eval_metric=None, feature_types=None,\n",
       "              gamma=None, gpu_id=None, grow_policy=None, importance_type=None,\n",
       "              interaction_constraints=None, learning_rate=None, max_bin=None,\n",
       "              max_cat_threshold=None, max_cat_to_onehot=None,\n",
       "              max_delta_step=None, max_depth=None, max_leaves=None,\n",
       "              min_child_weight=None, missing=nan, monotone_constraints=None,\n",
       "              n_estimators=100, n_jobs=None, num_parallel_tree=None,\n",
       "              predictor=None, random_state=None, ...)"
      ]
     },
     "execution_count": 24,
     "metadata": {},
     "output_type": "execute_result"
    }
   ],
   "source": [
    "xg_clf_d = XGBClassifier()\n",
    "xg_clf_d.fit(X_train, y_train)"
   ]
  },
  {
   "cell_type": "code",
   "execution_count": 25,
   "id": "c15bb234-b61f-4289-abfa-7cd5850dff0a",
   "metadata": {
    "tags": []
   },
   "outputs": [
    {
     "data": {
      "text/html": [
       "<div>\n",
       "<style scoped>\n",
       "    .dataframe tbody tr th:only-of-type {\n",
       "        vertical-align: middle;\n",
       "    }\n",
       "\n",
       "    .dataframe tbody tr th {\n",
       "        vertical-align: top;\n",
       "    }\n",
       "\n",
       "    .dataframe thead th {\n",
       "        text-align: right;\n",
       "    }\n",
       "</style>\n",
       "<table border=\"1\" class=\"dataframe\">\n",
       "  <thead>\n",
       "    <tr style=\"text-align: right;\">\n",
       "      <th></th>\n",
       "      <th>prediction</th>\n",
       "      <th>real _value</th>\n",
       "    </tr>\n",
       "  </thead>\n",
       "  <tbody>\n",
       "    <tr>\n",
       "      <th>0</th>\n",
       "      <td>0</td>\n",
       "      <td>0</td>\n",
       "    </tr>\n",
       "    <tr>\n",
       "      <th>1</th>\n",
       "      <td>1</td>\n",
       "      <td>1</td>\n",
       "    </tr>\n",
       "    <tr>\n",
       "      <th>2</th>\n",
       "      <td>0</td>\n",
       "      <td>0</td>\n",
       "    </tr>\n",
       "    <tr>\n",
       "      <th>3</th>\n",
       "      <td>0</td>\n",
       "      <td>0</td>\n",
       "    </tr>\n",
       "    <tr>\n",
       "      <th>4</th>\n",
       "      <td>0</td>\n",
       "      <td>0</td>\n",
       "    </tr>\n",
       "    <tr>\n",
       "      <th>5</th>\n",
       "      <td>0</td>\n",
       "      <td>0</td>\n",
       "    </tr>\n",
       "    <tr>\n",
       "      <th>6</th>\n",
       "      <td>0</td>\n",
       "      <td>0</td>\n",
       "    </tr>\n",
       "    <tr>\n",
       "      <th>7</th>\n",
       "      <td>0</td>\n",
       "      <td>0</td>\n",
       "    </tr>\n",
       "    <tr>\n",
       "      <th>8</th>\n",
       "      <td>0</td>\n",
       "      <td>0</td>\n",
       "    </tr>\n",
       "    <tr>\n",
       "      <th>9</th>\n",
       "      <td>1</td>\n",
       "      <td>1</td>\n",
       "    </tr>\n",
       "    <tr>\n",
       "      <th>10</th>\n",
       "      <td>0</td>\n",
       "      <td>0</td>\n",
       "    </tr>\n",
       "    <tr>\n",
       "      <th>11</th>\n",
       "      <td>0</td>\n",
       "      <td>0</td>\n",
       "    </tr>\n",
       "    <tr>\n",
       "      <th>12</th>\n",
       "      <td>0</td>\n",
       "      <td>0</td>\n",
       "    </tr>\n",
       "    <tr>\n",
       "      <th>13</th>\n",
       "      <td>1</td>\n",
       "      <td>1</td>\n",
       "    </tr>\n",
       "    <tr>\n",
       "      <th>14</th>\n",
       "      <td>0</td>\n",
       "      <td>0</td>\n",
       "    </tr>\n",
       "    <tr>\n",
       "      <th>15</th>\n",
       "      <td>1</td>\n",
       "      <td>1</td>\n",
       "    </tr>\n",
       "    <tr>\n",
       "      <th>16</th>\n",
       "      <td>1</td>\n",
       "      <td>1</td>\n",
       "    </tr>\n",
       "    <tr>\n",
       "      <th>17</th>\n",
       "      <td>0</td>\n",
       "      <td>0</td>\n",
       "    </tr>\n",
       "    <tr>\n",
       "      <th>18</th>\n",
       "      <td>1</td>\n",
       "      <td>1</td>\n",
       "    </tr>\n",
       "    <tr>\n",
       "      <th>19</th>\n",
       "      <td>0</td>\n",
       "      <td>0</td>\n",
       "    </tr>\n",
       "    <tr>\n",
       "      <th>20</th>\n",
       "      <td>0</td>\n",
       "      <td>0</td>\n",
       "    </tr>\n",
       "    <tr>\n",
       "      <th>21</th>\n",
       "      <td>1</td>\n",
       "      <td>1</td>\n",
       "    </tr>\n",
       "    <tr>\n",
       "      <th>22</th>\n",
       "      <td>0</td>\n",
       "      <td>1</td>\n",
       "    </tr>\n",
       "    <tr>\n",
       "      <th>23</th>\n",
       "      <td>0</td>\n",
       "      <td>0</td>\n",
       "    </tr>\n",
       "    <tr>\n",
       "      <th>24</th>\n",
       "      <td>0</td>\n",
       "      <td>0</td>\n",
       "    </tr>\n",
       "    <tr>\n",
       "      <th>25</th>\n",
       "      <td>0</td>\n",
       "      <td>1</td>\n",
       "    </tr>\n",
       "    <tr>\n",
       "      <th>26</th>\n",
       "      <td>1</td>\n",
       "      <td>1</td>\n",
       "    </tr>\n",
       "    <tr>\n",
       "      <th>27</th>\n",
       "      <td>1</td>\n",
       "      <td>1</td>\n",
       "    </tr>\n",
       "    <tr>\n",
       "      <th>28</th>\n",
       "      <td>0</td>\n",
       "      <td>0</td>\n",
       "    </tr>\n",
       "    <tr>\n",
       "      <th>29</th>\n",
       "      <td>1</td>\n",
       "      <td>1</td>\n",
       "    </tr>\n",
       "  </tbody>\n",
       "</table>\n",
       "</div>"
      ],
      "text/plain": [
       "    prediction  real _value\n",
       "0            0            0\n",
       "1            1            1\n",
       "2            0            0\n",
       "3            0            0\n",
       "4            0            0\n",
       "5            0            0\n",
       "6            0            0\n",
       "7            0            0\n",
       "8            0            0\n",
       "9            1            1\n",
       "10           0            0\n",
       "11           0            0\n",
       "12           0            0\n",
       "13           1            1\n",
       "14           0            0\n",
       "15           1            1\n",
       "16           1            1\n",
       "17           0            0\n",
       "18           1            1\n",
       "19           0            0\n",
       "20           0            0\n",
       "21           1            1\n",
       "22           0            1\n",
       "23           0            0\n",
       "24           0            0\n",
       "25           0            1\n",
       "26           1            1\n",
       "27           1            1\n",
       "28           0            0\n",
       "29           1            1"
      ]
     },
     "execution_count": 25,
     "metadata": {},
     "output_type": "execute_result"
    }
   ],
   "source": [
    "pd.DataFrame({\"prediction\" : xg_clf_d.predict(X_test), \"real _value\" :y_test})"
   ]
  },
  {
   "cell_type": "code",
   "execution_count": 26,
   "id": "84f2f18e-8f65-4e5c-9345-d7eca3e314fa",
   "metadata": {
    "tags": []
   },
   "outputs": [
    {
     "data": {
      "text/plain": [
       "100"
      ]
     },
     "execution_count": 26,
     "metadata": {},
     "output_type": "execute_result"
    }
   ],
   "source": [
    "#상당히 많은 트리들을 볼 수 있다.\n",
    "\n",
    "boosters = xg_clf_d.get_booster()\n",
    "boosters.feature_names = list(data.feature_names)\n",
    "\n",
    "tree_list = boosters.get_dump()\n",
    "\n",
    "len(tree_list)"
   ]
  },
  {
   "cell_type": "code",
   "execution_count": 27,
   "id": "5d0ff88f",
   "metadata": {},
   "outputs": [
    {
     "name": "stdout",
     "output_type": "stream",
     "text": [
      "0:[petal length (cm)<2.5999999] yes=1,no=2,missing=1\n",
      "\t1:leaf=-0.545454562\n",
      "\t2:[petal width (cm)<1.6500001] yes=3,no=4,missing=3\n",
      "\t\t3:[petal length (cm)<4.94999981] yes=5,no=6,missing=5\n",
      "\t\t\t5:leaf=0.541463435\n",
      "\t\t\t6:leaf=-0.200000018\n",
      "\t\t4:leaf=-0.54285717\n",
      "\n"
     ]
    }
   ],
   "source": [
    "print(tree_list[0])"
   ]
  },
  {
   "cell_type": "code",
   "execution_count": 28,
   "id": "52de868d",
   "metadata": {},
   "outputs": [
    {
     "name": "stdout",
     "output_type": "stream",
     "text": [
      "0:[petal length (cm)<2.5999999] yes=1,no=2,missing=1\n",
      "\t1:leaf=-0.427828759\n",
      "\t2:[petal width (cm)<1.6500001] yes=3,no=4,missing=3\n",
      "\t\t3:[petal length (cm)<4.94999981] yes=5,no=6,missing=5\n",
      "\t\t\t5:leaf=0.425154209\n",
      "\t\t\t6:leaf=-0.167702854\n",
      "\t\t4:leaf=-0.426088065\n",
      "\n"
     ]
    }
   ],
   "source": [
    "print(tree_list[1])"
   ]
  },
  {
   "cell_type": "code",
   "execution_count": 29,
   "id": "1cc0cfe0",
   "metadata": {},
   "outputs": [
    {
     "data": {
      "text/html": [
       "<div>\n",
       "<style scoped>\n",
       "    .dataframe tbody tr th:only-of-type {\n",
       "        vertical-align: middle;\n",
       "    }\n",
       "\n",
       "    .dataframe tbody tr th {\n",
       "        vertical-align: top;\n",
       "    }\n",
       "\n",
       "    .dataframe thead th {\n",
       "        text-align: right;\n",
       "    }\n",
       "</style>\n",
       "<table border=\"1\" class=\"dataframe\">\n",
       "  <thead>\n",
       "    <tr style=\"text-align: right;\">\n",
       "      <th></th>\n",
       "      <th>prediction</th>\n",
       "      <th>score</th>\n",
       "      <th>prob_by_score</th>\n",
       "      <th>P(Y=1)</th>\n",
       "    </tr>\n",
       "  </thead>\n",
       "  <tbody>\n",
       "    <tr>\n",
       "      <th>0</th>\n",
       "      <td>0</td>\n",
       "      <td>-4.676945</td>\n",
       "      <td>0.009222</td>\n",
       "      <td>0.009222</td>\n",
       "    </tr>\n",
       "    <tr>\n",
       "      <th>1</th>\n",
       "      <td>1</td>\n",
       "      <td>4.076972</td>\n",
       "      <td>0.983324</td>\n",
       "      <td>0.983324</td>\n",
       "    </tr>\n",
       "    <tr>\n",
       "      <th>2</th>\n",
       "      <td>0</td>\n",
       "      <td>-4.676945</td>\n",
       "      <td>0.009222</td>\n",
       "      <td>0.009222</td>\n",
       "    </tr>\n",
       "    <tr>\n",
       "      <th>3</th>\n",
       "      <td>0</td>\n",
       "      <td>-3.501430</td>\n",
       "      <td>0.029272</td>\n",
       "      <td>0.029272</td>\n",
       "    </tr>\n",
       "    <tr>\n",
       "      <th>4</th>\n",
       "      <td>0</td>\n",
       "      <td>-5.738795</td>\n",
       "      <td>0.003208</td>\n",
       "      <td>0.003208</td>\n",
       "    </tr>\n",
       "    <tr>\n",
       "      <th>5</th>\n",
       "      <td>0</td>\n",
       "      <td>-5.738795</td>\n",
       "      <td>0.003208</td>\n",
       "      <td>0.003208</td>\n",
       "    </tr>\n",
       "    <tr>\n",
       "      <th>6</th>\n",
       "      <td>0</td>\n",
       "      <td>-5.738795</td>\n",
       "      <td>0.003208</td>\n",
       "      <td>0.003208</td>\n",
       "    </tr>\n",
       "    <tr>\n",
       "      <th>7</th>\n",
       "      <td>0</td>\n",
       "      <td>-4.858024</td>\n",
       "      <td>0.007706</td>\n",
       "      <td>0.007706</td>\n",
       "    </tr>\n",
       "    <tr>\n",
       "      <th>8</th>\n",
       "      <td>0</td>\n",
       "      <td>-4.676945</td>\n",
       "      <td>0.009222</td>\n",
       "      <td>0.009222</td>\n",
       "    </tr>\n",
       "    <tr>\n",
       "      <th>9</th>\n",
       "      <td>1</td>\n",
       "      <td>4.373553</td>\n",
       "      <td>0.987551</td>\n",
       "      <td>0.987551</td>\n",
       "    </tr>\n",
       "    <tr>\n",
       "      <th>10</th>\n",
       "      <td>0</td>\n",
       "      <td>-4.676945</td>\n",
       "      <td>0.009222</td>\n",
       "      <td>0.009222</td>\n",
       "    </tr>\n",
       "    <tr>\n",
       "      <th>11</th>\n",
       "      <td>0</td>\n",
       "      <td>-4.676945</td>\n",
       "      <td>0.009222</td>\n",
       "      <td>0.009222</td>\n",
       "    </tr>\n",
       "    <tr>\n",
       "      <th>12</th>\n",
       "      <td>0</td>\n",
       "      <td>-4.676945</td>\n",
       "      <td>0.009222</td>\n",
       "      <td>0.009222</td>\n",
       "    </tr>\n",
       "    <tr>\n",
       "      <th>13</th>\n",
       "      <td>1</td>\n",
       "      <td>2.710509</td>\n",
       "      <td>0.937644</td>\n",
       "      <td>0.937644</td>\n",
       "    </tr>\n",
       "    <tr>\n",
       "      <th>14</th>\n",
       "      <td>0</td>\n",
       "      <td>-5.738795</td>\n",
       "      <td>0.003208</td>\n",
       "      <td>0.003208</td>\n",
       "    </tr>\n",
       "    <tr>\n",
       "      <th>15</th>\n",
       "      <td>1</td>\n",
       "      <td>3.854214</td>\n",
       "      <td>0.979249</td>\n",
       "      <td>0.979249</td>\n",
       "    </tr>\n",
       "    <tr>\n",
       "      <th>16</th>\n",
       "      <td>1</td>\n",
       "      <td>3.807979</td>\n",
       "      <td>0.978289</td>\n",
       "      <td>0.978289</td>\n",
       "    </tr>\n",
       "    <tr>\n",
       "      <th>17</th>\n",
       "      <td>0</td>\n",
       "      <td>-4.676945</td>\n",
       "      <td>0.009222</td>\n",
       "      <td>0.009222</td>\n",
       "    </tr>\n",
       "    <tr>\n",
       "      <th>18</th>\n",
       "      <td>1</td>\n",
       "      <td>4.076972</td>\n",
       "      <td>0.983324</td>\n",
       "      <td>0.983324</td>\n",
       "    </tr>\n",
       "    <tr>\n",
       "      <th>19</th>\n",
       "      <td>0</td>\n",
       "      <td>-5.738795</td>\n",
       "      <td>0.003208</td>\n",
       "      <td>0.003208</td>\n",
       "    </tr>\n",
       "    <tr>\n",
       "      <th>20</th>\n",
       "      <td>0</td>\n",
       "      <td>-5.738795</td>\n",
       "      <td>0.003208</td>\n",
       "      <td>0.003208</td>\n",
       "    </tr>\n",
       "    <tr>\n",
       "      <th>21</th>\n",
       "      <td>1</td>\n",
       "      <td>3.854214</td>\n",
       "      <td>0.979249</td>\n",
       "      <td>0.979249</td>\n",
       "    </tr>\n",
       "    <tr>\n",
       "      <th>22</th>\n",
       "      <td>0</td>\n",
       "      <td>-5.299762</td>\n",
       "      <td>0.004968</td>\n",
       "      <td>0.004968</td>\n",
       "    </tr>\n",
       "    <tr>\n",
       "      <th>23</th>\n",
       "      <td>0</td>\n",
       "      <td>-2.473315</td>\n",
       "      <td>0.077750</td>\n",
       "      <td>0.077750</td>\n",
       "    </tr>\n",
       "    <tr>\n",
       "      <th>24</th>\n",
       "      <td>0</td>\n",
       "      <td>-4.676945</td>\n",
       "      <td>0.009222</td>\n",
       "      <td>0.009222</td>\n",
       "    </tr>\n",
       "    <tr>\n",
       "      <th>25</th>\n",
       "      <td>0</td>\n",
       "      <td>-3.149107</td>\n",
       "      <td>0.041126</td>\n",
       "      <td>0.041126</td>\n",
       "    </tr>\n",
       "    <tr>\n",
       "      <th>26</th>\n",
       "      <td>1</td>\n",
       "      <td>4.076972</td>\n",
       "      <td>0.983324</td>\n",
       "      <td>0.983324</td>\n",
       "    </tr>\n",
       "    <tr>\n",
       "      <th>27</th>\n",
       "      <td>1</td>\n",
       "      <td>2.864694</td>\n",
       "      <td>0.946073</td>\n",
       "      <td>0.946073</td>\n",
       "    </tr>\n",
       "    <tr>\n",
       "      <th>28</th>\n",
       "      <td>0</td>\n",
       "      <td>-4.676945</td>\n",
       "      <td>0.009222</td>\n",
       "      <td>0.009222</td>\n",
       "    </tr>\n",
       "    <tr>\n",
       "      <th>29</th>\n",
       "      <td>1</td>\n",
       "      <td>4.287761</td>\n",
       "      <td>0.986450</td>\n",
       "      <td>0.986450</td>\n",
       "    </tr>\n",
       "  </tbody>\n",
       "</table>\n",
       "</div>"
      ],
      "text/plain": [
       "    prediction     score  prob_by_score    P(Y=1)\n",
       "0            0 -4.676945       0.009222  0.009222\n",
       "1            1  4.076972       0.983324  0.983324\n",
       "2            0 -4.676945       0.009222  0.009222\n",
       "3            0 -3.501430       0.029272  0.029272\n",
       "4            0 -5.738795       0.003208  0.003208\n",
       "5            0 -5.738795       0.003208  0.003208\n",
       "6            0 -5.738795       0.003208  0.003208\n",
       "7            0 -4.858024       0.007706  0.007706\n",
       "8            0 -4.676945       0.009222  0.009222\n",
       "9            1  4.373553       0.987551  0.987551\n",
       "10           0 -4.676945       0.009222  0.009222\n",
       "11           0 -4.676945       0.009222  0.009222\n",
       "12           0 -4.676945       0.009222  0.009222\n",
       "13           1  2.710509       0.937644  0.937644\n",
       "14           0 -5.738795       0.003208  0.003208\n",
       "15           1  3.854214       0.979249  0.979249\n",
       "16           1  3.807979       0.978289  0.978289\n",
       "17           0 -4.676945       0.009222  0.009222\n",
       "18           1  4.076972       0.983324  0.983324\n",
       "19           0 -5.738795       0.003208  0.003208\n",
       "20           0 -5.738795       0.003208  0.003208\n",
       "21           1  3.854214       0.979249  0.979249\n",
       "22           0 -5.299762       0.004968  0.004968\n",
       "23           0 -2.473315       0.077750  0.077750\n",
       "24           0 -4.676945       0.009222  0.009222\n",
       "25           0 -3.149107       0.041126  0.041126\n",
       "26           1  4.076972       0.983324  0.983324\n",
       "27           1  2.864694       0.946073  0.946073\n",
       "28           0 -4.676945       0.009222  0.009222\n",
       "29           1  4.287761       0.986450  0.986450"
      ]
     },
     "execution_count": 29,
     "metadata": {},
     "output_type": "execute_result"
    }
   ],
   "source": [
    "df_tree_d = xg_clf_d.get_booster().trees_to_dataframe()\n",
    "applied_d = xg_clf_d.apply(df_X_test)\n",
    "score_list_d = []\n",
    "for i in range(0, X_test.shape[0]):\n",
    "    total_score = 0\n",
    "    for j in range(xg_clf_d.n_estimators):\n",
    "        selected_raw = df_tree_d[df_tree_d[\"ID\"] == f\"{j}-\" + str(int(applied_d[i, j]))]\n",
    "        total_score += selected_raw.iloc[0][\"Gain\"]\n",
    "    \n",
    "    score_list_d.append(total_score)\n",
    "    \n",
    "\n",
    "prob = 1/(1 + np.exp(-np.array(score_list_d)))\n",
    "pd.DataFrame({\"prediction\": xg_clf_d.predict(X_test), \"score\": score_list_d, \"prob_by_score\" : prob, \\\n",
    "              \"P(Y=1)\" : xg_clf_d.predict_proba(X_test)[:,1].reshape(-1)})"
   ]
  },
  {
   "cell_type": "markdown",
   "id": "c037d7a5-d964-4d5c-9906-64ef69e7d266",
   "metadata": {},
   "source": [
    "### 예제 : `make_hastie_10_2` \n",
    "\n",
    "[`make_hastie_10_2`](https://scikit-learn.org/stable/modules/generated/sklearn.datasets.make_hastie_10_2.html)데이터 를 이용하여 XGBoost와 일반 gradient boosting의 속도를 비교해 보자."
   ]
  },
  {
   "cell_type": "code",
   "execution_count": 30,
   "id": "1c5e61c3-9607-45a3-8602-263b03140ca9",
   "metadata": {
    "tags": []
   },
   "outputs": [],
   "source": [
    "from sklearn import datasets\n",
    "\n",
    "X, y = datasets.make_hastie_10_2(n_samples=12_000, random_state=1)\n",
    "\n",
    "y[y == -1] = 0\n",
    "\n",
    "from sklearn.model_selection import train_test_split\n",
    "\n",
    "X_train, X_test, y_train, y_test = train_test_split(\n",
    "    X, y, test_size=2_000, shuffle=False\n",
    ")\n"
   ]
  },
  {
   "cell_type": "code",
   "execution_count": 31,
   "id": "1bb78528-ddd9-4008-bec7-70e9b10ba0e9",
   "metadata": {
    "tags": []
   },
   "outputs": [],
   "source": [
    "xgb_clf = XGBClassifier(n_estimators = 400, max_depth=1)"
   ]
  },
  {
   "cell_type": "code",
   "execution_count": 32,
   "id": "505557f4-04a8-4a0c-a336-b14a481dca4d",
   "metadata": {
    "tags": []
   },
   "outputs": [
    {
     "name": "stdout",
     "output_type": "stream",
     "text": [
      "666 ms ± 11.5 ms per loop (mean ± std. dev. of 7 runs, 1 loop each)\n"
     ]
    }
   ],
   "source": [
    "%%timeit\n",
    "xgb_clf.fit(X_train, y_train)"
   ]
  },
  {
   "cell_type": "code",
   "execution_count": 33,
   "id": "1522aa08-dfed-4fa7-bded-9c58fccaf5ed",
   "metadata": {
    "tags": []
   },
   "outputs": [
    {
     "data": {
      "text/plain": [
       "0.9485"
      ]
     },
     "execution_count": 33,
     "metadata": {},
     "output_type": "execute_result"
    }
   ],
   "source": [
    "xgb_clf.score(X_test, y_test)"
   ]
  },
  {
   "cell_type": "code",
   "execution_count": 34,
   "id": "7551f15c-643c-4fa7-b1c7-a67ef30a66d4",
   "metadata": {
    "tags": []
   },
   "outputs": [],
   "source": [
    "from sklearn.ensemble import GradientBoostingClassifier\n",
    "n_estimators = 400\n",
    "gb_clf = GradientBoostingClassifier(n_estimators=n_estimators, max_depth=1)"
   ]
  },
  {
   "cell_type": "code",
   "execution_count": 35,
   "id": "f7505296-5acb-4ad3-b676-fa24e1a47e47",
   "metadata": {
    "tags": []
   },
   "outputs": [
    {
     "name": "stdout",
     "output_type": "stream",
     "text": [
      "9.5 s ± 462 ms per loop (mean ± std. dev. of 7 runs, 1 loop each)\n"
     ]
    }
   ],
   "source": [
    "%%timeit\n",
    "gb_clf .fit(X_train, y_train)"
   ]
  },
  {
   "cell_type": "code",
   "execution_count": 36,
   "id": "03cc212e-0723-4853-83eb-7c764e5b3524",
   "metadata": {
    "tags": []
   },
   "outputs": [
    {
     "data": {
      "text/plain": [
       "0.9005"
      ]
     },
     "execution_count": 36,
     "metadata": {},
     "output_type": "execute_result"
    }
   ],
   "source": [
    "gb_clf.score(X_test, y_test)"
   ]
  },
  {
   "cell_type": "markdown",
   "id": "998f2538-832d-4ca8-8c3e-474ec6e5179f",
   "metadata": {},
   "source": [
    "### 하이퍼 파라미터\n",
    "\n",
    "심장병 판별 자료 예제를 이용하여 XGBoost에서 하이퍼 파라미터를 어떻게 설정하는지 간단히 알아보자."
   ]
  },
  {
   "cell_type": "code",
   "execution_count": 37,
   "id": "ed28fcfa-e387-4668-8b6d-f063e1c175e6",
   "metadata": {
    "tags": []
   },
   "outputs": [
    {
     "data": {
      "text/html": [
       "<div>\n",
       "<style scoped>\n",
       "    .dataframe tbody tr th:only-of-type {\n",
       "        vertical-align: middle;\n",
       "    }\n",
       "\n",
       "    .dataframe tbody tr th {\n",
       "        vertical-align: top;\n",
       "    }\n",
       "\n",
       "    .dataframe thead th {\n",
       "        text-align: right;\n",
       "    }\n",
       "</style>\n",
       "<table border=\"1\" class=\"dataframe\">\n",
       "  <thead>\n",
       "    <tr style=\"text-align: right;\">\n",
       "      <th></th>\n",
       "      <th>age</th>\n",
       "      <th>sex</th>\n",
       "      <th>cp</th>\n",
       "      <th>trestbps</th>\n",
       "      <th>chol</th>\n",
       "      <th>fbs</th>\n",
       "      <th>restecg</th>\n",
       "      <th>thalach</th>\n",
       "      <th>exang</th>\n",
       "      <th>oldpeak</th>\n",
       "      <th>slope</th>\n",
       "      <th>ca</th>\n",
       "      <th>thal</th>\n",
       "      <th>target</th>\n",
       "    </tr>\n",
       "  </thead>\n",
       "  <tbody>\n",
       "    <tr>\n",
       "      <th>0</th>\n",
       "      <td>63</td>\n",
       "      <td>1</td>\n",
       "      <td>3</td>\n",
       "      <td>145</td>\n",
       "      <td>233</td>\n",
       "      <td>1</td>\n",
       "      <td>0</td>\n",
       "      <td>150</td>\n",
       "      <td>0</td>\n",
       "      <td>2.3</td>\n",
       "      <td>0</td>\n",
       "      <td>0</td>\n",
       "      <td>1</td>\n",
       "      <td>1</td>\n",
       "    </tr>\n",
       "    <tr>\n",
       "      <th>1</th>\n",
       "      <td>37</td>\n",
       "      <td>1</td>\n",
       "      <td>2</td>\n",
       "      <td>130</td>\n",
       "      <td>250</td>\n",
       "      <td>0</td>\n",
       "      <td>1</td>\n",
       "      <td>187</td>\n",
       "      <td>0</td>\n",
       "      <td>3.5</td>\n",
       "      <td>0</td>\n",
       "      <td>0</td>\n",
       "      <td>2</td>\n",
       "      <td>1</td>\n",
       "    </tr>\n",
       "    <tr>\n",
       "      <th>2</th>\n",
       "      <td>41</td>\n",
       "      <td>0</td>\n",
       "      <td>1</td>\n",
       "      <td>130</td>\n",
       "      <td>204</td>\n",
       "      <td>0</td>\n",
       "      <td>0</td>\n",
       "      <td>172</td>\n",
       "      <td>0</td>\n",
       "      <td>1.4</td>\n",
       "      <td>2</td>\n",
       "      <td>0</td>\n",
       "      <td>2</td>\n",
       "      <td>1</td>\n",
       "    </tr>\n",
       "    <tr>\n",
       "      <th>3</th>\n",
       "      <td>56</td>\n",
       "      <td>1</td>\n",
       "      <td>1</td>\n",
       "      <td>120</td>\n",
       "      <td>236</td>\n",
       "      <td>0</td>\n",
       "      <td>1</td>\n",
       "      <td>178</td>\n",
       "      <td>0</td>\n",
       "      <td>0.8</td>\n",
       "      <td>2</td>\n",
       "      <td>0</td>\n",
       "      <td>2</td>\n",
       "      <td>1</td>\n",
       "    </tr>\n",
       "    <tr>\n",
       "      <th>4</th>\n",
       "      <td>57</td>\n",
       "      <td>0</td>\n",
       "      <td>0</td>\n",
       "      <td>120</td>\n",
       "      <td>354</td>\n",
       "      <td>0</td>\n",
       "      <td>1</td>\n",
       "      <td>163</td>\n",
       "      <td>1</td>\n",
       "      <td>0.6</td>\n",
       "      <td>2</td>\n",
       "      <td>0</td>\n",
       "      <td>2</td>\n",
       "      <td>1</td>\n",
       "    </tr>\n",
       "  </tbody>\n",
       "</table>\n",
       "</div>"
      ],
      "text/plain": [
       "   age  sex  cp  trestbps  chol  fbs  restecg  thalach  exang  oldpeak  slope   \n",
       "0   63    1   3       145   233    1        0      150      0      2.3      0  \\\n",
       "1   37    1   2       130   250    0        1      187      0      3.5      0   \n",
       "2   41    0   1       130   204    0        0      172      0      1.4      2   \n",
       "3   56    1   1       120   236    0        1      178      0      0.8      2   \n",
       "4   57    0   0       120   354    0        1      163      1      0.6      2   \n",
       "\n",
       "   ca  thal  target  \n",
       "0   0     1       1  \n",
       "1   0     2       1  \n",
       "2   0     2       1  \n",
       "3   0     2       1  \n",
       "4   0     2       1  "
      ]
     },
     "execution_count": 37,
     "metadata": {},
     "output_type": "execute_result"
    }
   ],
   "source": [
    "import pandas as pd\n",
    "df = pd.read_csv(\"https://raw.githubusercontent.com/rickiepark/handson-gb/main/Chapter02/heart_disease.csv\")\n",
    "df.head()"
   ]
  },
  {
   "cell_type": "code",
   "execution_count": 38,
   "id": "97dea76c-572b-40fa-9256-9fcfd38db7bf",
   "metadata": {
    "tags": []
   },
   "outputs": [
    {
     "name": "stdout",
     "output_type": "stream",
     "text": [
      "<class 'pandas.core.frame.DataFrame'>\n",
      "RangeIndex: 303 entries, 0 to 302\n",
      "Data columns (total 14 columns):\n",
      " #   Column    Non-Null Count  Dtype  \n",
      "---  ------    --------------  -----  \n",
      " 0   age       303 non-null    int64  \n",
      " 1   sex       303 non-null    int64  \n",
      " 2   cp        303 non-null    int64  \n",
      " 3   trestbps  303 non-null    int64  \n",
      " 4   chol      303 non-null    int64  \n",
      " 5   fbs       303 non-null    int64  \n",
      " 6   restecg   303 non-null    int64  \n",
      " 7   thalach   303 non-null    int64  \n",
      " 8   exang     303 non-null    int64  \n",
      " 9   oldpeak   303 non-null    float64\n",
      " 10  slope     303 non-null    int64  \n",
      " 11  ca        303 non-null    int64  \n",
      " 12  thal      303 non-null    int64  \n",
      " 13  target    303 non-null    int64  \n",
      "dtypes: float64(1), int64(13)\n",
      "memory usage: 33.3 KB\n"
     ]
    }
   ],
   "source": [
    "df.info()"
   ]
  },
  {
   "cell_type": "code",
   "execution_count": 39,
   "id": "f1ead09f-5849-44a9-8c31-7b699276cfa5",
   "metadata": {
    "tags": []
   },
   "outputs": [],
   "source": [
    "from xgboost import XGBClassifier"
   ]
  },
  {
   "cell_type": "code",
   "execution_count": 40,
   "id": "675f0519-21ce-45ac-bb55-a36e33b5d86b",
   "metadata": {
    "tags": []
   },
   "outputs": [],
   "source": [
    "X = df.iloc[:, :-1]\n",
    "y = df.iloc[:, -1]"
   ]
  },
  {
   "cell_type": "markdown",
   "id": "b04518f3",
   "metadata": {},
   "source": [
    "아래 코드에서 `booster = \"gbtree\", objective = \"binary:logistic\"`는 사실 `XGBClassifier`의 default 값들이다."
   ]
  },
  {
   "cell_type": "code",
   "execution_count": 41,
   "id": "c05df3f6-da9d-4d5f-b6c1-b2b93be63258",
   "metadata": {
    "tags": []
   },
   "outputs": [],
   "source": [
    "model = XGBClassifier(booster = \"gbtree\", objective = \"binary:logistic\")"
   ]
  },
  {
   "cell_type": "markdown",
   "id": "1c70f02b",
   "metadata": {},
   "source": [
    "위 모델을 이용하여 5-fold cross validation 에러를 계산해 보자."
   ]
  },
  {
   "cell_type": "code",
   "execution_count": 42,
   "id": "5cbf194e-dea1-403c-862a-b90c97b330cd",
   "metadata": {
    "tags": []
   },
   "outputs": [
    {
     "data": {
      "text/plain": [
       "0.8149726775956283"
      ]
     },
     "execution_count": 42,
     "metadata": {},
     "output_type": "execute_result"
    }
   ],
   "source": [
    "from sklearn.model_selection import cross_val_score\n",
    "scores = cross_val_score(model, X, y, cv=5)\n",
    "scores.mean()"
   ]
  },
  {
   "cell_type": "markdown",
   "id": "c178202f-7cf9-4099-930a-f119910e8273",
   "metadata": {},
   "source": [
    "한편, [`sklearn.model_selection.StratifiedKFold`](https://scikit-learn.org/stable/modules/generated/sklearn.model_selection.StratifiedKFold.html)는 $y$의 클래스의 비율을 일정하게 하여 k-fold cross-validation을 하게 하므로, 더 정확한 테스트 에러 추정치를 얻을 수 있다고 알려져 있다."
   ]
  },
  {
   "cell_type": "code",
   "execution_count": 43,
   "id": "52e94d19-1e49-4cdf-8c1a-6f4494ae3883",
   "metadata": {
    "tags": []
   },
   "outputs": [],
   "source": [
    "from sklearn.model_selection import StratifiedKFold\n",
    "kfold = StratifiedKFold(n_splits=5, shuffle=False)"
   ]
  },
  {
   "cell_type": "code",
   "execution_count": 44,
   "id": "c24e3320-ff51-4a42-85ef-093c8e811dbf",
   "metadata": {
    "tags": []
   },
   "outputs": [
    {
     "data": {
      "text/plain": [
       "0.8149726775956283"
      ]
     },
     "execution_count": 44,
     "metadata": {},
     "output_type": "execute_result"
    }
   ],
   "source": [
    "scores = cross_val_score(model, X, y, cv=kfold)\n",
    "scores.mean()"
   ]
  },
  {
   "cell_type": "markdown",
   "id": "49e952e6-1d4a-4e5e-b489-a89477a94579",
   "metadata": {},
   "source": [
    "하이퍼파라미터 튜닝은 기본적으로 [`sklearn.model_selection.GridSearchCV`](https://scikit-learn.org/stable/modules/generated/sklearn.model_selection.GridSearchCV.html) 나 [`sklearn.model_selection.RandomizedSearchCV`](https://scikit-learn.org/stable/modules/generated/sklearn.model_selection.RandomizedSearchCV.html)을 이용한다.\n",
    "\n",
    "`sklearn.model_selection.GridSearchCV`는 하이퍼 파라미터들이 가질 수 있는 여러 값들을 그리드 형태로 지정하여 모두 테스트 하는 방식이다.\n",
    "\n",
    "`param_grid`는 탐색할 파라미터 값들의 리스트를 나타내며, 파라미터 이름을 key로 삼아 dictionary로 표현된다.\n",
    "\n",
    "비슷하게 `sklearn.model_selection.RandomizedSearchCV`는 탐색할 파라미터가 램덤하게 샘플링될 분포를 `param_distributions`로 제공해 주어야 한다."
   ]
  },
  {
   "cell_type": "code",
   "execution_count": 45,
   "id": "ed744023-1405-4714-9849-7a9df4f8d7c7",
   "metadata": {
    "tags": []
   },
   "outputs": [],
   "source": [
    "from sklearn.model_selection import GridSearchCV, RandomizedSearchCV"
   ]
  },
  {
   "cell_type": "markdown",
   "id": "0e967b5c",
   "metadata": {},
   "source": [
    "많은 하이퍼 파라미터들에 대해 비슷한 작업을 수행할 것이므로, 함수로 만들어 사용해 보자.\n",
    "\n",
    "`random`이 `False`일 경우 grid search를, `True`일 경우 Randomized search를 한다."
   ]
  },
  {
   "cell_type": "code",
   "execution_count": 46,
   "id": "0256a57a-4509-49fd-ae2d-1b6c7af6810c",
   "metadata": {
    "tags": []
   },
   "outputs": [],
   "source": [
    "def grid_search(params, random=False): \n",
    "\n",
    "    xgb = XGBClassifier(booster='gbtree', objective='binary:logistic', verbosity=0)\n",
    "    \n",
    "    kfold = StratifiedKFold(n_splits=5, shuffle=True)\n",
    "    \n",
    "    if random:\n",
    "        grid = RandomizedSearchCV(estimator = xgb, param_distributions = params, cv=kfold, n_iter=20, \n",
    "                                  n_jobs=-1)\n",
    "    else:\n",
    "        grid = GridSearchCV(estimator = xgb, param_grid = params, cv=kfold, n_jobs=-1)\n",
    "    \n",
    "    grid.fit(X, y)\n",
    "\n",
    "    best_params = grid.best_params_\n",
    "    print(\"최상의 매개변수:\", best_params) \n",
    "    best_score = grid.best_score_\n",
    "    print(\"최상의 점수: {:.5f}\".format(best_score))\n",
    "    \n",
    "    return grid"
   ]
  },
  {
   "cell_type": "code",
   "execution_count": 47,
   "id": "5421174a-1a3f-4517-a4d9-0b6c37edc3b3",
   "metadata": {
    "tags": []
   },
   "outputs": [
    {
     "name": "stdout",
     "output_type": "stream",
     "text": [
      "최상의 매개변수: {'n_estimators': 400}\n",
      "최상의 점수: 0.79563\n"
     ]
    }
   ],
   "source": [
    "_ = grid_search(params={'n_estimators':[100, 200, 400, 800]})"
   ]
  },
  {
   "cell_type": "code",
   "execution_count": 48,
   "id": "c530624e-5b34-46db-8c14-265cf7693833",
   "metadata": {
    "tags": []
   },
   "outputs": [
    {
     "name": "stdout",
     "output_type": "stream",
     "text": [
      "최상의 매개변수: {'learning_rate': 0.5}\n",
      "최상의 점수: 0.82530\n"
     ]
    }
   ],
   "source": [
    "_ = grid_search(params={'learning_rate':[0.01, 0.05, 0.1, 0.2, 0.3, 0.4, 0.5]})"
   ]
  },
  {
   "cell_type": "code",
   "execution_count": 49,
   "id": "f5836540-b5d7-4eb9-9968-0e91c7f1e3ca",
   "metadata": {
    "tags": []
   },
   "outputs": [
    {
     "name": "stdout",
     "output_type": "stream",
     "text": [
      "최상의 매개변수: {'max_depth': 2}\n",
      "최상의 점수: 0.80552\n"
     ]
    }
   ],
   "source": [
    "_ = grid_search(params={'max_depth':[2, 3, 5, 6, 8]})"
   ]
  },
  {
   "cell_type": "code",
   "execution_count": 50,
   "id": "08717359-5559-4966-9abd-cb52f2f56d89",
   "metadata": {
    "tags": []
   },
   "outputs": [
    {
     "name": "stdout",
     "output_type": "stream",
     "text": [
      "최상의 매개변수: {'gamma': 2}\n",
      "최상의 점수: 0.79202\n"
     ]
    }
   ],
   "source": [
    "_ = grid_search(params={'gamma':[0, 0.01, 0.1, 0.5, 1, 2]})"
   ]
  },
  {
   "cell_type": "code",
   "execution_count": 51,
   "id": "3907e27b-6f2b-41d1-a159-480fbb8dd3a8",
   "metadata": {
    "tags": []
   },
   "outputs": [
    {
     "name": "stdout",
     "output_type": "stream",
     "text": [
      "최상의 매개변수: {'min_child_weight': 5}\n",
      "최상의 점수: 0.80530\n"
     ]
    }
   ],
   "source": [
    "_ = grid_search(params={'min_child_weight':[1, 2, 3, 4, 5]})"
   ]
  },
  {
   "cell_type": "code",
   "execution_count": 52,
   "id": "1d3f0729-5ea7-4a5a-97cd-9b0671fd6b49",
   "metadata": {
    "tags": []
   },
   "outputs": [
    {
     "name": "stdout",
     "output_type": "stream",
     "text": [
      "최상의 매개변수: {'subsample': 0.8}\n",
      "최상의 점수: 0.80508\n"
     ]
    }
   ],
   "source": [
    "_ = grid_search(params={'subsample':[0.5, 0.7, 0.8, 0.9, 1]})"
   ]
  },
  {
   "cell_type": "code",
   "execution_count": 53,
   "id": "96ec3aab-4fcc-474b-9e6c-c8eb6c026ac9",
   "metadata": {
    "tags": []
   },
   "outputs": [
    {
     "name": "stdout",
     "output_type": "stream",
     "text": [
      "최상의 매개변수: {'colsample_bytree': 0.5}\n",
      "최상의 점수: 0.80180\n"
     ]
    }
   ],
   "source": [
    "_ = grid_search(params={'colsample_bytree':[0.5, 0.7, 0.8, 0.9, 1]})"
   ]
  },
  {
   "cell_type": "markdown",
   "id": "2fe88462",
   "metadata": {},
   "source": [
    "탐색의 대상이 너무 많을 때는 randomized search를 사용하는 것도 좋은 방법이다.\n",
    "\n",
    "다음의 parameter 조합은 너무 많기 때문에, random search를 이용했다.\n",
    "\n",
    "주어진 parameter 조합 중의 일부를 랜덤하게 선택하여 에러를 측정하는 방법이다."
   ]
  },
  {
   "cell_type": "code",
   "execution_count": 54,
   "id": "d922522c",
   "metadata": {},
   "outputs": [
    {
     "name": "stdout",
     "output_type": "stream",
     "text": [
      "최상의 매개변수: {'subsample': 0.6, 'n_estimators': 50, 'min_child_weight': 4, 'max_depth': 5, 'learning_rate': 0.2}\n",
      "최상의 점수: 0.83809\n"
     ]
    }
   ],
   "source": [
    "grid = grid_search(params={'subsample':[0.5, 0.6, 0.7, 0.8, 0.9, 1], \n",
    "                    'min_child_weight':[1, 2, 3, 4, 5], \n",
    "                    'learning_rate':[0.1, 0.2, 0.3, 0.4, 0.5], \n",
    "                    'max_depth':[1, 2, 3, 4, 5, None], \n",
    "                    'n_estimators':[2, 25, 50, 75, 100]}, random=True)"
   ]
  },
  {
   "cell_type": "code",
   "execution_count": 55,
   "id": "e9ce534e",
   "metadata": {},
   "outputs": [
    {
     "data": {
      "text/plain": [
       "{'subsample': 0.6,\n",
       " 'n_estimators': 50,\n",
       " 'min_child_weight': 4,\n",
       " 'max_depth': 5,\n",
       " 'learning_rate': 0.2}"
      ]
     },
     "execution_count": 55,
     "metadata": {},
     "output_type": "execute_result"
    }
   ],
   "source": [
    "grid.best_params_"
   ]
  },
  {
   "cell_type": "markdown",
   "id": "a47dfa4b",
   "metadata": {},
   "source": [
    "`best_estimator_`는 최적의 하이퍼파라미터 조합으로 학습된 모델 객체이다."
   ]
  },
  {
   "cell_type": "code",
   "execution_count": 56,
   "id": "532fb768",
   "metadata": {},
   "outputs": [
    {
     "data": {
      "text/html": [
       "<style>#sk-container-id-4 {color: black;background-color: white;}#sk-container-id-4 pre{padding: 0;}#sk-container-id-4 div.sk-toggleable {background-color: white;}#sk-container-id-4 label.sk-toggleable__label {cursor: pointer;display: block;width: 100%;margin-bottom: 0;padding: 0.3em;box-sizing: border-box;text-align: center;}#sk-container-id-4 label.sk-toggleable__label-arrow:before {content: \"▸\";float: left;margin-right: 0.25em;color: #696969;}#sk-container-id-4 label.sk-toggleable__label-arrow:hover:before {color: black;}#sk-container-id-4 div.sk-estimator:hover label.sk-toggleable__label-arrow:before {color: black;}#sk-container-id-4 div.sk-toggleable__content {max-height: 0;max-width: 0;overflow: hidden;text-align: left;background-color: #f0f8ff;}#sk-container-id-4 div.sk-toggleable__content pre {margin: 0.2em;color: black;border-radius: 0.25em;background-color: #f0f8ff;}#sk-container-id-4 input.sk-toggleable__control:checked~div.sk-toggleable__content {max-height: 200px;max-width: 100%;overflow: auto;}#sk-container-id-4 input.sk-toggleable__control:checked~label.sk-toggleable__label-arrow:before {content: \"▾\";}#sk-container-id-4 div.sk-estimator input.sk-toggleable__control:checked~label.sk-toggleable__label {background-color: #d4ebff;}#sk-container-id-4 div.sk-label input.sk-toggleable__control:checked~label.sk-toggleable__label {background-color: #d4ebff;}#sk-container-id-4 input.sk-hidden--visually {border: 0;clip: rect(1px 1px 1px 1px);clip: rect(1px, 1px, 1px, 1px);height: 1px;margin: -1px;overflow: hidden;padding: 0;position: absolute;width: 1px;}#sk-container-id-4 div.sk-estimator {font-family: monospace;background-color: #f0f8ff;border: 1px dotted black;border-radius: 0.25em;box-sizing: border-box;margin-bottom: 0.5em;}#sk-container-id-4 div.sk-estimator:hover {background-color: #d4ebff;}#sk-container-id-4 div.sk-parallel-item::after {content: \"\";width: 100%;border-bottom: 1px solid gray;flex-grow: 1;}#sk-container-id-4 div.sk-label:hover label.sk-toggleable__label {background-color: #d4ebff;}#sk-container-id-4 div.sk-serial::before {content: \"\";position: absolute;border-left: 1px solid gray;box-sizing: border-box;top: 0;bottom: 0;left: 50%;z-index: 0;}#sk-container-id-4 div.sk-serial {display: flex;flex-direction: column;align-items: center;background-color: white;padding-right: 0.2em;padding-left: 0.2em;position: relative;}#sk-container-id-4 div.sk-item {position: relative;z-index: 1;}#sk-container-id-4 div.sk-parallel {display: flex;align-items: stretch;justify-content: center;background-color: white;position: relative;}#sk-container-id-4 div.sk-item::before, #sk-container-id-4 div.sk-parallel-item::before {content: \"\";position: absolute;border-left: 1px solid gray;box-sizing: border-box;top: 0;bottom: 0;left: 50%;z-index: -1;}#sk-container-id-4 div.sk-parallel-item {display: flex;flex-direction: column;z-index: 1;position: relative;background-color: white;}#sk-container-id-4 div.sk-parallel-item:first-child::after {align-self: flex-end;width: 50%;}#sk-container-id-4 div.sk-parallel-item:last-child::after {align-self: flex-start;width: 50%;}#sk-container-id-4 div.sk-parallel-item:only-child::after {width: 0;}#sk-container-id-4 div.sk-dashed-wrapped {border: 1px dashed gray;margin: 0 0.4em 0.5em 0.4em;box-sizing: border-box;padding-bottom: 0.4em;background-color: white;}#sk-container-id-4 div.sk-label label {font-family: monospace;font-weight: bold;display: inline-block;line-height: 1.2em;}#sk-container-id-4 div.sk-label-container {text-align: center;}#sk-container-id-4 div.sk-container {/* jupyter's `normalize.less` sets `[hidden] { display: none; }` but bootstrap.min.css set `[hidden] { display: none !important; }` so we also need the `!important` here to be able to override the default hidden behavior on the sphinx rendered scikit-learn.org. See: https://github.com/scikit-learn/scikit-learn/issues/21755 */display: inline-block !important;position: relative;}#sk-container-id-4 div.sk-text-repr-fallback {display: none;}</style><div id=\"sk-container-id-4\" class=\"sk-top-container\"><div class=\"sk-text-repr-fallback\"><pre>XGBClassifier(base_score=None, booster=&#x27;gbtree&#x27;, callbacks=None,\n",
       "              colsample_bylevel=None, colsample_bynode=None,\n",
       "              colsample_bytree=None, early_stopping_rounds=None,\n",
       "              enable_categorical=False, eval_metric=None, feature_types=None,\n",
       "              gamma=None, gpu_id=None, grow_policy=None, importance_type=None,\n",
       "              interaction_constraints=None, learning_rate=0.2, max_bin=None,\n",
       "              max_cat_threshold=None, max_cat_to_onehot=None,\n",
       "              max_delta_step=None, max_depth=5, max_leaves=None,\n",
       "              min_child_weight=4, missing=nan, monotone_constraints=None,\n",
       "              n_estimators=50, n_jobs=None, num_parallel_tree=None,\n",
       "              predictor=None, random_state=None, ...)</pre><b>In a Jupyter environment, please rerun this cell to show the HTML representation or trust the notebook. <br />On GitHub, the HTML representation is unable to render, please try loading this page with nbviewer.org.</b></div><div class=\"sk-container\" hidden><div class=\"sk-item\"><div class=\"sk-estimator sk-toggleable\"><input class=\"sk-toggleable__control sk-hidden--visually\" id=\"sk-estimator-id-4\" type=\"checkbox\" checked><label for=\"sk-estimator-id-4\" class=\"sk-toggleable__label sk-toggleable__label-arrow\">XGBClassifier</label><div class=\"sk-toggleable__content\"><pre>XGBClassifier(base_score=None, booster=&#x27;gbtree&#x27;, callbacks=None,\n",
       "              colsample_bylevel=None, colsample_bynode=None,\n",
       "              colsample_bytree=None, early_stopping_rounds=None,\n",
       "              enable_categorical=False, eval_metric=None, feature_types=None,\n",
       "              gamma=None, gpu_id=None, grow_policy=None, importance_type=None,\n",
       "              interaction_constraints=None, learning_rate=0.2, max_bin=None,\n",
       "              max_cat_threshold=None, max_cat_to_onehot=None,\n",
       "              max_delta_step=None, max_depth=5, max_leaves=None,\n",
       "              min_child_weight=4, missing=nan, monotone_constraints=None,\n",
       "              n_estimators=50, n_jobs=None, num_parallel_tree=None,\n",
       "              predictor=None, random_state=None, ...)</pre></div></div></div></div></div>"
      ],
      "text/plain": [
       "XGBClassifier(base_score=None, booster='gbtree', callbacks=None,\n",
       "              colsample_bylevel=None, colsample_bynode=None,\n",
       "              colsample_bytree=None, early_stopping_rounds=None,\n",
       "              enable_categorical=False, eval_metric=None, feature_types=None,\n",
       "              gamma=None, gpu_id=None, grow_policy=None, importance_type=None,\n",
       "              interaction_constraints=None, learning_rate=0.2, max_bin=None,\n",
       "              max_cat_threshold=None, max_cat_to_onehot=None,\n",
       "              max_delta_step=None, max_depth=5, max_leaves=None,\n",
       "              min_child_weight=4, missing=nan, monotone_constraints=None,\n",
       "              n_estimators=50, n_jobs=None, num_parallel_tree=None,\n",
       "              predictor=None, random_state=None, ...)"
      ]
     },
     "execution_count": 56,
     "metadata": {},
     "output_type": "execute_result"
    }
   ],
   "source": [
    "grid.best_estimator_"
   ]
  },
  {
   "cell_type": "code",
   "execution_count": 57,
   "id": "fd0e704f",
   "metadata": {},
   "outputs": [],
   "source": [
    "xgb_op = grid.best_estimator_"
   ]
  },
  {
   "cell_type": "code",
   "execution_count": 58,
   "id": "24353606",
   "metadata": {
    "scrolled": true
   },
   "outputs": [
    {
     "data": {
      "text/html": [
       "<style>#sk-container-id-5 {color: black;background-color: white;}#sk-container-id-5 pre{padding: 0;}#sk-container-id-5 div.sk-toggleable {background-color: white;}#sk-container-id-5 label.sk-toggleable__label {cursor: pointer;display: block;width: 100%;margin-bottom: 0;padding: 0.3em;box-sizing: border-box;text-align: center;}#sk-container-id-5 label.sk-toggleable__label-arrow:before {content: \"▸\";float: left;margin-right: 0.25em;color: #696969;}#sk-container-id-5 label.sk-toggleable__label-arrow:hover:before {color: black;}#sk-container-id-5 div.sk-estimator:hover label.sk-toggleable__label-arrow:before {color: black;}#sk-container-id-5 div.sk-toggleable__content {max-height: 0;max-width: 0;overflow: hidden;text-align: left;background-color: #f0f8ff;}#sk-container-id-5 div.sk-toggleable__content pre {margin: 0.2em;color: black;border-radius: 0.25em;background-color: #f0f8ff;}#sk-container-id-5 input.sk-toggleable__control:checked~div.sk-toggleable__content {max-height: 200px;max-width: 100%;overflow: auto;}#sk-container-id-5 input.sk-toggleable__control:checked~label.sk-toggleable__label-arrow:before {content: \"▾\";}#sk-container-id-5 div.sk-estimator input.sk-toggleable__control:checked~label.sk-toggleable__label {background-color: #d4ebff;}#sk-container-id-5 div.sk-label input.sk-toggleable__control:checked~label.sk-toggleable__label {background-color: #d4ebff;}#sk-container-id-5 input.sk-hidden--visually {border: 0;clip: rect(1px 1px 1px 1px);clip: rect(1px, 1px, 1px, 1px);height: 1px;margin: -1px;overflow: hidden;padding: 0;position: absolute;width: 1px;}#sk-container-id-5 div.sk-estimator {font-family: monospace;background-color: #f0f8ff;border: 1px dotted black;border-radius: 0.25em;box-sizing: border-box;margin-bottom: 0.5em;}#sk-container-id-5 div.sk-estimator:hover {background-color: #d4ebff;}#sk-container-id-5 div.sk-parallel-item::after {content: \"\";width: 100%;border-bottom: 1px solid gray;flex-grow: 1;}#sk-container-id-5 div.sk-label:hover label.sk-toggleable__label {background-color: #d4ebff;}#sk-container-id-5 div.sk-serial::before {content: \"\";position: absolute;border-left: 1px solid gray;box-sizing: border-box;top: 0;bottom: 0;left: 50%;z-index: 0;}#sk-container-id-5 div.sk-serial {display: flex;flex-direction: column;align-items: center;background-color: white;padding-right: 0.2em;padding-left: 0.2em;position: relative;}#sk-container-id-5 div.sk-item {position: relative;z-index: 1;}#sk-container-id-5 div.sk-parallel {display: flex;align-items: stretch;justify-content: center;background-color: white;position: relative;}#sk-container-id-5 div.sk-item::before, #sk-container-id-5 div.sk-parallel-item::before {content: \"\";position: absolute;border-left: 1px solid gray;box-sizing: border-box;top: 0;bottom: 0;left: 50%;z-index: -1;}#sk-container-id-5 div.sk-parallel-item {display: flex;flex-direction: column;z-index: 1;position: relative;background-color: white;}#sk-container-id-5 div.sk-parallel-item:first-child::after {align-self: flex-end;width: 50%;}#sk-container-id-5 div.sk-parallel-item:last-child::after {align-self: flex-start;width: 50%;}#sk-container-id-5 div.sk-parallel-item:only-child::after {width: 0;}#sk-container-id-5 div.sk-dashed-wrapped {border: 1px dashed gray;margin: 0 0.4em 0.5em 0.4em;box-sizing: border-box;padding-bottom: 0.4em;background-color: white;}#sk-container-id-5 div.sk-label label {font-family: monospace;font-weight: bold;display: inline-block;line-height: 1.2em;}#sk-container-id-5 div.sk-label-container {text-align: center;}#sk-container-id-5 div.sk-container {/* jupyter's `normalize.less` sets `[hidden] { display: none; }` but bootstrap.min.css set `[hidden] { display: none !important; }` so we also need the `!important` here to be able to override the default hidden behavior on the sphinx rendered scikit-learn.org. See: https://github.com/scikit-learn/scikit-learn/issues/21755 */display: inline-block !important;position: relative;}#sk-container-id-5 div.sk-text-repr-fallback {display: none;}</style><div id=\"sk-container-id-5\" class=\"sk-top-container\"><div class=\"sk-text-repr-fallback\"><pre>XGBClassifier(base_score=None, booster=&#x27;gbtree&#x27;, callbacks=None,\n",
       "              colsample_bylevel=None, colsample_bynode=None,\n",
       "              colsample_bytree=None, early_stopping_rounds=None,\n",
       "              enable_categorical=False, eval_metric=None, feature_types=None,\n",
       "              gamma=None, gpu_id=None, grow_policy=None, importance_type=None,\n",
       "              interaction_constraints=None, learning_rate=0.2, max_bin=None,\n",
       "              max_cat_threshold=None, max_cat_to_onehot=None,\n",
       "              max_delta_step=None, max_depth=5, max_leaves=None,\n",
       "              min_child_weight=4, missing=nan, monotone_constraints=None,\n",
       "              n_estimators=50, n_jobs=None, num_parallel_tree=None,\n",
       "              predictor=None, random_state=None, ...)</pre><b>In a Jupyter environment, please rerun this cell to show the HTML representation or trust the notebook. <br />On GitHub, the HTML representation is unable to render, please try loading this page with nbviewer.org.</b></div><div class=\"sk-container\" hidden><div class=\"sk-item\"><div class=\"sk-estimator sk-toggleable\"><input class=\"sk-toggleable__control sk-hidden--visually\" id=\"sk-estimator-id-5\" type=\"checkbox\" checked><label for=\"sk-estimator-id-5\" class=\"sk-toggleable__label sk-toggleable__label-arrow\">XGBClassifier</label><div class=\"sk-toggleable__content\"><pre>XGBClassifier(base_score=None, booster=&#x27;gbtree&#x27;, callbacks=None,\n",
       "              colsample_bylevel=None, colsample_bynode=None,\n",
       "              colsample_bytree=None, early_stopping_rounds=None,\n",
       "              enable_categorical=False, eval_metric=None, feature_types=None,\n",
       "              gamma=None, gpu_id=None, grow_policy=None, importance_type=None,\n",
       "              interaction_constraints=None, learning_rate=0.2, max_bin=None,\n",
       "              max_cat_threshold=None, max_cat_to_onehot=None,\n",
       "              max_delta_step=None, max_depth=5, max_leaves=None,\n",
       "              min_child_weight=4, missing=nan, monotone_constraints=None,\n",
       "              n_estimators=50, n_jobs=None, num_parallel_tree=None,\n",
       "              predictor=None, random_state=None, ...)</pre></div></div></div></div></div>"
      ],
      "text/plain": [
       "XGBClassifier(base_score=None, booster='gbtree', callbacks=None,\n",
       "              colsample_bylevel=None, colsample_bynode=None,\n",
       "              colsample_bytree=None, early_stopping_rounds=None,\n",
       "              enable_categorical=False, eval_metric=None, feature_types=None,\n",
       "              gamma=None, gpu_id=None, grow_policy=None, importance_type=None,\n",
       "              interaction_constraints=None, learning_rate=0.2, max_bin=None,\n",
       "              max_cat_threshold=None, max_cat_to_onehot=None,\n",
       "              max_delta_step=None, max_depth=5, max_leaves=None,\n",
       "              min_child_weight=4, missing=nan, monotone_constraints=None,\n",
       "              n_estimators=50, n_jobs=None, num_parallel_tree=None,\n",
       "              predictor=None, random_state=None, ...)"
      ]
     },
     "execution_count": 58,
     "metadata": {},
     "output_type": "execute_result"
    }
   ],
   "source": [
    "xgb_op.fit(X, y)"
   ]
  },
  {
   "cell_type": "markdown",
   "id": "e37bc70b",
   "metadata": {},
   "source": [
    "[`feature_importnaces_`](https://xgboost.readthedocs.io/en/stable/python/python_api.html#xgboost.XGBClassifier.feature_importances_)는 XGBoost 모델에서 각 피처(변수)의 중요도를 나타내는 속성이다. \n",
    "\n",
    "중요도는 해당 피처가 모델의 예측에 얼마나 큰 영향을 미치는지를 나타내는 값으로 해석된다."
   ]
  },
  {
   "cell_type": "code",
   "execution_count": 59,
   "id": "8076149c",
   "metadata": {},
   "outputs": [
    {
     "data": {
      "text/plain": [
       "array([0.05681977, 0.06852973, 0.16221899, 0.03768466, 0.03900969,\n",
       "       0.        , 0.05667366, 0.04874108, 0.12303892, 0.06358536,\n",
       "       0.0478664 , 0.1325147 , 0.1633171 ], dtype=float32)"
      ]
     },
     "execution_count": 59,
     "metadata": {},
     "output_type": "execute_result"
    }
   ],
   "source": [
    "xgb_op.feature_importances_"
   ]
  },
  {
   "cell_type": "code",
   "execution_count": 60,
   "id": "7dda3d72",
   "metadata": {},
   "outputs": [
    {
     "name": "stdout",
     "output_type": "stream",
     "text": [
      "Feature: thal, Importance: 0.16331709921360016\n",
      "Feature: cp, Importance: 0.16221898794174194\n",
      "Feature: ca, Importance: 0.13251470029354095\n",
      "Feature: exang, Importance: 0.12303891777992249\n",
      "Feature: sex, Importance: 0.06852973252534866\n",
      "Feature: oldpeak, Importance: 0.06358535587787628\n",
      "Feature: age, Importance: 0.05681977421045303\n",
      "Feature: restecg, Importance: 0.05667366459965706\n",
      "Feature: thalach, Importance: 0.04874107986688614\n",
      "Feature: slope, Importance: 0.047866400331258774\n",
      "Feature: chol, Importance: 0.0390096940100193\n",
      "Feature: trestbps, Importance: 0.03768466040492058\n",
      "Feature: fbs, Importance: 0.0\n"
     ]
    }
   ],
   "source": [
    "importances = xgb_op.feature_importances_\n",
    "\n",
    "# 중요도를 기준으로 내림차순 정렬하여 feature 이름과 중요도를 출력\n",
    "sorted_indices = importances.argsort()[::-1]  # 중요도를 기준으로 내림차순 정렬된 인덱스\n",
    "sorted_importances = importances[sorted_indices]\n",
    "sorted_feature_names = X.columns[sorted_indices]\n",
    "\n",
    "for feature_name, importance in zip(sorted_feature_names, sorted_importances):\n",
    "    print(f\"Feature: {feature_name}, Importance: {importance}\")"
   ]
  },
  {
   "cell_type": "code",
   "execution_count": 61,
   "id": "dae59a40",
   "metadata": {},
   "outputs": [
    {
     "data": {
      "image/png": "[encoded data removed]",
      "text/plain": [
       "<Figure size 640x480 with 1 Axes>"
      ]
     },
     "metadata": {},
     "output_type": "display_data"
    }
   ],
   "source": [
    "from xgboost import plot_importance\n",
    "_ = plot_importance(xgb_op, importance_type='gain')"
   ]
  }
 ],
 "metadata": {
  "kernelspec": {
   "display_name": "Python 3 (ipykernel)",
   "language": "python",
   "name": "python3"
  },
  "language_info": {
   "codemirror_mode": {
    "name": "ipython",
    "version": 3
   },
   "file_extension": ".py",
   "mimetype": "text/x-python",
   "name": "python",
   "nbconvert_exporter": "python",
   "pygments_lexer": "ipython3",
   "version": "3.10.11"
  }
 },
 "nbformat": 4,
 "nbformat_minor": 5
}
